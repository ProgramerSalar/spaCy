{
 "cells": [
  {
   "cell_type": "markdown",
   "metadata": {},
   "source": [
    "# 8. Using RegEx with spaCy"
   ]
  },
  {
   "cell_type": "markdown",
   "metadata": {},
   "source": [
    "## 8.1 Key Concept in this NOtebook \n",
    "\n",
    "1. What is Regex (Regular Expression)\n",
    "2. The Strengths of RegEx \n",
    "3. The Weaknesses of RegEx \n",
    "4. How to use RegEx in Python \n",
    "5. How to use RegEx in spaCy"
   ]
  },
  {
   "cell_type": "markdown",
   "metadata": {},
   "source": [
    "## 8.2 What is Regular Expression \n",
    "Regular Expression or RegEx for short is a way of achieving complex string matching based on simple or complex pattern. It can be used to perform finding and retrieving patterns or replacing matching patterns is a string with some other pattern. It was invnted by an Stephen Cole Kleene in the 1950s and is still widely used today for numerous taks, but particularly string matching in texts. RegEx are fully intergrated with most search engines and can allow for more robust search. nearly all data scientists, especially those who work with texts, use RegEx at some stage in their workflow, from data searching, to cleaning  data to implementing machne learning models. It is an essential tool for any text-based reasearcher. for these reason, it marits a few chapters in this textbook. \n",
    "\n",
    "In spaCy it can be leveraged in a few different pipe(depending on the task at hand as we shall see), to identify things such as entities or pattern matching."
   ]
  },
  {
   "cell_type": "markdown",
   "metadata": {},
   "source": [
    "## 8.3. The Strengths of RegEx¶\n",
    "There are several strengths to RegEx.\n",
    "\n",
    "Due to its complex syntax, it can allow for programmers to write robust rules in short spaces.\n",
    "\n",
    "It can allow the researcher to find all types of variance in strings\n",
    "\n",
    "It can perform remarkably quickly when compared to other methods.\n",
    "\n",
    "It is universally supported\n",
    "\n",
    "## 8.4. The Weaknesses of RegEx¶\n",
    "Despite these strengths, there are a few weaknesses to RegEx.\n",
    "\n",
    "Its syntax is quite difficult for beginners. (I still find myself looking up how to do certain things).\n",
    "\n",
    "It order to work well, it requires a domain-expert to work alongside the programmer to think of all ways a pattern may vary in texts."
   ]
  },
  {
   "cell_type": "markdown",
   "metadata": {},
   "source": [
    "## 8.5 How to Use RegEx in Python \n",
    "\n",
    "Python comes parepackaged with a RegEx library. we can improve it like so:"
   ]
  },
  {
   "cell_type": "code",
   "execution_count": 2,
   "metadata": {},
   "outputs": [],
   "source": [
    "import re "
   ]
  },
  {
   "cell_type": "markdown",
   "metadata": {},
   "source": [
    "Now that we have it imported, we can begin to write out some RegEx rules. Let’s say we want to find an occurrence of a date in a text. As noted in an earlier notebook, there are a finite number of ways this can be represented. Let’s try to grab all instances of a day followed by a month first."
   ]
  },
  {
   "cell_type": "code",
   "execution_count": 3,
   "metadata": {},
   "outputs": [
    {
     "name": "stdout",
     "output_type": "stream",
     "text": [
      "[('2 February', '2', 'February'), ('14 Augest', '4', 'Augest')]\n"
     ]
    }
   ],
   "source": [
    "# take a date of 1 and 2 digit of the date \n",
    "pattern = r\"((\\d){1,2} (January|February|March|April|May|June|July|Augest|September|October|November|December))\"\n",
    "\n",
    "text = \"This is a date 2 February, Another date would be 14 Augest.\"\n",
    "matches = re.findall(pattern, text)\n",
    "print(matches)"
   ]
  },
  {
   "cell_type": "markdown",
   "metadata": {},
   "source": [
    "* pattern = r\"((\\d){1,2} (January|February|March|April|May|June|July|Augest|September|October|November|December))\": This line defines a regular expression pattern that matches dates. The pattern looks for one or two digits ((\\d){1,2}) followed by a space and then a month name. The month names are listed as\n",
    "\n",
    "* alternatives separated by the pipe | character. There’s a typo in “August” which is written as “Augest”.\n",
    "text = \"This is a date 2 February, Another date would be 14 Augest.\": This line assigns a string to the variable text. The string contains two dates.\n",
    "\n",
    "\n",
    "* matches = re.findall(pattern, text): This line uses the re.findall function to find all non-overlapping matches of the pattern in the text. The re.findall function returns a list of all matches found.\n",
    "print(matches): This line prints the list of matches to the console.\n",
    "\n",
    "When this script is executed, the re.findall function will return a list of tuples. Each tuple contains the entire matched string and the matched day number. However, due to the typo in “August”, the second date will not be matched correctly. The correct output should be a list of dates found in the text, but because of the typo, only the first date will be matched and returned."
   ]
  },
  {
   "cell_type": "markdown",
   "metadata": {},
   "source": [
    "* OutPut:  However, there seems to be a typo in the month name ‘August’, which is written as ‘Augest’. Additionally, the day number ‘14’ in the second tuple is incorrectly captured as ‘4’. This could be due to an error in the regular expression pattern or the way the capturing groups are set up. The correct output, assuming the typo is fixed and the pattern correctly captures the day number, should look like this:\n",
    "\n",
    "[('2 February', '2', 'February'), ('14 August', '14', 'August')]\n",
    "\n"
   ]
  },
  {
   "cell_type": "markdown",
   "metadata": {},
   "source": [
    "In this bit of code, we see a real-life RegEx formula at work. While this looks quite complex, its syntax is fairly straight forward. Let’s break it down. The first ( tells RegEx that I’m looking for something within the ending ). In other words, I’m looking for a pattern that’s going to match the whole pattern, not just components.\n",
    "\n",
    "Next, we state (\\d){1,2}. This means that we are looking for any digit (0-9) that occurs either once or twice ({1,2}).\n",
    "\n",
    "Next, we have a space to indicate the space in the string that we would expect with a date.\n",
    "\n",
    "Next, we have (January|February|March|April|May|June|July|August|September|October|November|December) – this indicates another component of the pattern (because it is parentheses). The | indicates the same concept as “or” in English, so either January, or February, or March, etc.\n",
    "\n",
    "When we bring it together, this pattern will match anything that functions as a set of one or two numbers followed by a month. What happens when we try and do this with a date that is formed the opposite way?"
   ]
  },
  {
   "cell_type": "code",
   "execution_count": 4,
   "metadata": {},
   "outputs": [
    {
     "name": "stdout",
     "output_type": "stream",
     "text": [
      "[('14 Augest', '4', 'Augest')]\n"
     ]
    }
   ],
   "source": [
    "text = \"This is a date February 2. Another date would be 14 Augest.\"\n",
    "matches = re.findall(pattern, text)\n",
    "print(matches)"
   ]
  },
  {
   "cell_type": "markdown",
   "metadata": {},
   "source": [
    "It fails. But this is no fault of RegEx. Our pattern cannot accommodate that variation. Nevertheless, we can account for it by adding it as a possible variation. Possible variations are accounted for with a *"
   ]
  },
  {
   "cell_type": "code",
   "execution_count": 10,
   "metadata": {},
   "outputs": [
    {
     "name": "stdout",
     "output_type": "stream",
     "text": [
      "[('February 2', '', '', '', '', 'February 2', 'February ', 'February', '2'), ('14 August', '14 August', '4', ' August', 'August', '', '', '', '')]\n"
     ]
    }
   ],
   "source": [
    "pattern = r\"(((\\d){1,2}( (January|February|March|April|May|June|July|August|September|October|November|December)))|(((January|February|March|April|May|June|July|August|September|October|November|December) )(\\d){1,2}))\"\n",
    "\n",
    "text = \"This is a date February 2. Another date would be 14 August.\"\n",
    "matches = re.findall(pattern, text)\n",
    "print (matches)"
   ]
  },
  {
   "cell_type": "markdown",
   "metadata": {},
   "source": [
    "There are more concise ways to write the same RegEx formula. I have opted here to be more verbose to make it a bit easier to read. You can see that we’ve allowed for two main options for our pattern matcher.\n",
    "\n",
    "Notice, however, that we have a lot of superfluous information for each match. These are the components of each match. There are several ways we can remove them. One way is to use the command finditer, rather than findall in RegEx."
   ]
  },
  {
   "cell_type": "code",
   "execution_count": 11,
   "metadata": {},
   "outputs": [
    {
     "name": "stdout",
     "output_type": "stream",
     "text": [
      "<callable_iterator object at 0x000001655034F3A0>\n"
     ]
    }
   ],
   "source": [
    "text = \"this is a date February 2. Another date would be 14 Augest.\"\n",
    "iter_matches = re.finditer(pattern, text)\n",
    "print(iter_matches)"
   ]
  },
  {
   "cell_type": "markdown",
   "metadata": {},
   "source": [
    "The output <callable_iterator object at 0x000001655034F3A0> indicates that the result of the re.finditer function is a callable iterator object located at the memory address 0x000001655034F3A0. In Python, an iterator is an object that allows you to iterate over a collection of items, one at a time.\n",
    "\n",
    "Here’s what you need to know about callable iterators:\n",
    "\n",
    "Callable: This means that the object can be called like a function, usually because it implements the __call__ method.\n",
    "Iterator: This is an object that implements the __iter__ and __next__ methods. You can use the next() function to manually get the next item from the iterator.\n",
    "Memory Address: The 0x000001655034F3A0 is the specific location in memory where the iterator object is stored.\n",
    "To access the matches found by re.finditer, you would typically use a loop to iterate over the iterator and retrieve each match object. For example:"
   ]
  },
  {
   "cell_type": "code",
   "execution_count": 17,
   "metadata": {},
   "outputs": [
    {
     "name": "stdout",
     "output_type": "stream",
     "text": [
      "<re.Match object; span=(15, 25), match='February 2'>\n",
      "<re.Match object; span=(49, 58), match='14 August'>\n"
     ]
    }
   ],
   "source": [
    "text = \"This is a date February 2. Another date would be 14 August.\"\n",
    "iter_matches = re.finditer(pattern, text)\n",
    "# print (iter_matches)\n",
    "for hit in iter_matches:\n",
    "    print (hit)"
   ]
  },
  {
   "cell_type": "markdown",
   "metadata": {},
   "source": [
    "Within each of these is some very salient information, such as the start and end location (inside the span) and the text itself (match). We can use the start and end location to grab the text within the string."
   ]
  },
  {
   "cell_type": "code",
   "execution_count": 27,
   "metadata": {},
   "outputs": [
    {
     "name": "stdout",
     "output_type": "stream",
     "text": [
      "February 2\n"
     ]
    }
   ],
   "source": [
    "text = \"This is a date February 2. Another date would be 14 Augest.\"\n",
    "# text = \"This is a date February 2. Another date would be 14 August.\"\n",
    "iter_matches = re.finditer(pattern, text)\n",
    "for hit in iter_matches:\n",
    "    start = hit.start()\n",
    "    end  = hit.end()\n",
    "    print(text[start:end])\n"
   ]
  },
  {
   "cell_type": "markdown",
   "metadata": {},
   "source": [
    "## 8.6 HOw to Use RegEx in spaCy \n",
    "\n",
    "Things like dates, times, IP Addresses, etc. that have either consistent or fairly consistent structures are excellent candidates for RegEx. Fortunately, spaCy has easy ways to implement RegEx in three pipes: Matcher, PhraseMatcher, and EntityRuler. One of the major drawbacks to the Matcher and PhraseMatcher, is that they do not align the matches as doc.ents. Because this textbook is about NER and our goal is to store the entities in the doc.ents, we will focus on using RegEx with the EntityRuler. In the next notebook, we will examine other methods.\n",
    "\n",
    "In the previous notebook, we saw how the code below allowed for us to capture the phone number in the string. I have modified it a bit here for reasons that will become a bit more clear below."
   ]
  },
  {
   "cell_type": "code",
   "execution_count": 2,
   "metadata": {},
   "outputs": [
    {
     "name": "stdout",
     "output_type": "stream",
     "text": [
      "555-5555 PHONE_NUMBER\n"
     ]
    }
   ],
   "source": [
    "import spacy \n",
    "\n",
    "text = \"this is a sample number 555-5555\"\n",
    "\n",
    "nlp = spacy.blank(\"en\")\n",
    "\n",
    "ruler = nlp.add_pipe(\"entity_ruler\")  # recognized the entity of the sentence \n",
    "\n",
    "patterns = [\n",
    "    {\"label\": \"PHONE_NUMBER\", \"pattern\":[{\"SHAPE\":\"ddd\"}, \n",
    "                                         {\"ORTH\":\"-\", \"OP\":\"?\"}, {\"SHAPE\":\"dddd\"}]}\n",
    "]\n",
    "\n",
    "ruler.add_patterns(patterns)\n",
    "\n",
    "doc = nlp(text)\n",
    "\n",
    "for ent in doc.ents:\n",
    "    print(ent.text, ent.label_)"
   ]
  },
  {
   "cell_type": "markdown",
   "metadata": {},
   "source": [
    "This method worked well for grabbing the phone number. But what if we wanted to use RegEx as opposed to linguistic features, such as shape? First, let’s write some RegEx to capturee 555-5555."
   ]
  },
  {
   "cell_type": "code",
   "execution_count": 4,
   "metadata": {},
   "outputs": [
    {
     "name": "stdout",
     "output_type": "stream",
     "text": [
      "[('555-5555', '5', '5')]\n"
     ]
    }
   ],
   "source": [
    "import re \n",
    "\n",
    "pattern = r\"((\\d){3}-(\\d){4})\"\n",
    "text = \"this is a sample number 555-5555.\"\n",
    "matches = re.findall(pattern, text)\n",
    "print(matches)"
   ]
  },
  {
   "cell_type": "markdown",
   "metadata": {},
   "source": [
    "``[('555-5555', '5', '5')] ->\n",
    "first accuracy, second, third accuracy``\n",
    "\n",
    "     "
   ]
  },
  {
   "cell_type": "markdown",
   "metadata": {},
   "source": [
    "Okay. So, now we know that we have a RegEx pattern that works. Let’s try and implement it in the spaCy EntityRuler. We can do that with the code below. When we execute the code below, we have no output."
   ]
  },
  {
   "cell_type": "code",
   "execution_count": 5,
   "metadata": {},
   "outputs": [
    {
     "name": "stderr",
     "output_type": "stream",
     "text": [
      "<>:11: SyntaxWarning: invalid escape sequence '\\d'\n",
      "<>:11: SyntaxWarning: invalid escape sequence '\\d'\n",
      "C:\\Users\\Manjusha Kumari\\AppData\\Local\\Temp\\ipykernel_3616\\578218334.py:11: SyntaxWarning: invalid escape sequence '\\d'\n",
      "  \"label\":\"PHONE_NUMBER\", \"pattern\":[{\"TEXT\":{\"REGEX\":\"((\\d){3}-(\\d){4})\"}}]\n"
     ]
    }
   ],
   "source": [
    "import spacy\n",
    "\n",
    "text = \"This is a sample number (555) 555-5555.\"\n",
    "\n",
    "nlp = spacy.blank(\"en\")\n",
    "\n",
    "ruler = nlp.add_pipe(\"entity_ruler\")\n",
    "\n",
    "pattern = [\n",
    "    {\n",
    "        \"label\":\"PHONE_NUMBER\", \"pattern\":[{\"TEXT\":{\"REGEX\":\"((\\d){3}-(\\d){4})\"}}]\n",
    "    }\n",
    "]\n",
    "\n",
    "ruler.add_patterns(pattern)\n",
    "doc = nlp(text)\n",
    "for ent in doc.ents:\n",
    "    print(ent.text, ent.label_)"
   ]
  },
  {
   "cell_type": "markdown",
   "metadata": {},
   "source": [
    "This is for one very important reason. SpaCy’s EntityRuler cannot use RegEx to pattern match across tokens. The dash in the phone number throws off the EntityRuler. So, what are we to do in this scenario? Well, we have a few different options that we will explore in the next notebook. But before we get to that, let’s try and use RegEx to capture the phone number with no hyphen."
   ]
  },
  {
   "cell_type": "code",
   "execution_count": 9,
   "metadata": {},
   "outputs": [
    {
     "name": "stdout",
     "output_type": "stream",
     "text": [
      "5555555 PHONE_NUMBER\n"
     ]
    },
    {
     "name": "stderr",
     "output_type": "stream",
     "text": [
      "<>:15: SyntaxWarning: invalid escape sequence '\\d'\n",
      "<>:15: SyntaxWarning: invalid escape sequence '\\d'\n",
      "C:\\Users\\Manjusha Kumari\\AppData\\Local\\Temp\\ipykernel_3616\\2513981340.py:15: SyntaxWarning: invalid escape sequence '\\d'\n",
      "  \"label\": \"PHONE_NUMBER\", \"pattern\": [{\"TEXT\": {\"REGEX\": \"((\\d){5})\"}}\n"
     ]
    }
   ],
   "source": [
    "#Import the requisite library\n",
    "import spacy\n",
    "\n",
    "#Sample text\n",
    "text = \"This is a sample number 5555555.\"\n",
    "#Build upon the spaCy Small Model\n",
    "nlp = spacy.blank(\"en\")\n",
    "\n",
    "#Create the Ruler and Add it\n",
    "ruler = nlp.add_pipe(\"entity_ruler\")\n",
    "\n",
    "#List of Entities and Patterns (source: https://spacy.io/usage/rule-based-matching)\n",
    "patterns = [\n",
    "                {\n",
    "                    \"label\": \"PHONE_NUMBER\", \"pattern\": [{\"TEXT\": {\"REGEX\": \"((\\d){5})\"}}\n",
    "                                                        ]\n",
    "                }\n",
    "            ]\n",
    "#add patterns to ruler\n",
    "ruler.add_patterns(patterns)\n",
    "\n",
    "\n",
    "#create the doc\n",
    "doc = nlp(text)\n",
    "\n",
    "#extract entities\n",
    "for ent in doc.ents:\n",
    "    print (ent.text, ent.label_)"
   ]
  },
  {
   "cell_type": "markdown",
   "metadata": {},
   "source": [
    "Notice that without the dash and a few modifications to our RegEx, we were able to capture 5555555 because this is a single token in the spaCy doc object. Let’s explore how to solve the problem in the next notebook!"
   ]
  }
 ],
 "metadata": {
  "kernelspec": {
   "display_name": "manish",
   "language": "python",
   "name": "python3"
  },
  "language_info": {
   "codemirror_mode": {
    "name": "ipython",
    "version": 3
   },
   "file_extension": ".py",
   "mimetype": "text/x-python",
   "name": "python",
   "nbconvert_exporter": "python",
   "pygments_lexer": "ipython3",
   "version": "3.12.3"
  }
 },
 "nbformat": 4,
 "nbformat_minor": 2
}
