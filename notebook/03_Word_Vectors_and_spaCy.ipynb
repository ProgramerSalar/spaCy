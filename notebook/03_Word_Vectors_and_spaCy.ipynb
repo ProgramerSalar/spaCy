{
 "cells": [
  {
   "cell_type": "markdown",
   "metadata": {},
   "source": [
    "# 3. word vector and spaCy\n",
    "\n",
    "in this notebook is word vectors, or word embeddings. Because the English small model does not have these saved. we will be working with the next largest model, the English medium model, **en_core_web_md**. Let's import spaCy and download medium model. "
   ]
  },
  {
   "cell_type": "code",
   "execution_count": 1,
   "metadata": {},
   "outputs": [
    {
     "name": "stdout",
     "output_type": "stream",
     "text": [
      "Defaulting to user installation because normal site-packages is not writeable\n",
      "Collecting en-core-web-md==3.7.1\n",
      "  Downloading https://github.com/explosion/spacy-models/releases/download/en_core_web_md-3.7.1/en_core_web_md-3.7.1-py3-none-any.whl (42.8 MB)\n",
      "     ---------------------------------------- 0.0/42.8 MB ? eta -:--:--\n",
      "     ---------------------------------------- 0.3/42.8 MB 6.8 MB/s eta 0:00:07\n",
      "      --------------------------------------- 1.0/42.8 MB 11.0 MB/s eta 0:00:04\n",
      "     - -------------------------------------- 1.3/42.8 MB 9.4 MB/s eta 0:00:05\n",
      "     - -------------------------------------- 1.6/42.8 MB 8.7 MB/s eta 0:00:05\n",
      "     - -------------------------------------- 1.8/42.8 MB 7.8 MB/s eta 0:00:06\n",
      "     -- ------------------------------------- 2.1/42.8 MB 7.6 MB/s eta 0:00:06\n",
      "     -- ------------------------------------- 2.4/42.8 MB 7.5 MB/s eta 0:00:06\n",
      "     -- ------------------------------------- 2.6/42.8 MB 7.4 MB/s eta 0:00:06\n",
      "     -- ------------------------------------- 2.9/42.8 MB 7.3 MB/s eta 0:00:06\n",
      "     -- ------------------------------------- 3.1/42.8 MB 7.0 MB/s eta 0:00:06\n",
      "     --- ------------------------------------ 3.3/42.8 MB 7.0 MB/s eta 0:00:06\n",
      "     --- ------------------------------------ 3.6/42.8 MB 6.9 MB/s eta 0:00:06\n",
      "     --- ------------------------------------ 3.8/42.8 MB 6.9 MB/s eta 0:00:06\n",
      "     --- ------------------------------------ 4.1/42.8 MB 6.8 MB/s eta 0:00:06\n",
      "     ---- ----------------------------------- 4.3/42.8 MB 6.9 MB/s eta 0:00:06\n",
      "     ---- ----------------------------------- 4.6/42.8 MB 6.8 MB/s eta 0:00:06\n",
      "     ---- ----------------------------------- 4.8/42.8 MB 6.7 MB/s eta 0:00:06\n",
      "     ---- ----------------------------------- 5.1/42.8 MB 6.8 MB/s eta 0:00:06\n",
      "     ----- ---------------------------------- 5.4/42.8 MB 6.6 MB/s eta 0:00:06\n",
      "     ----- ---------------------------------- 5.6/42.8 MB 6.6 MB/s eta 0:00:06\n",
      "     ----- ---------------------------------- 5.9/42.8 MB 6.6 MB/s eta 0:00:06\n",
      "     ----- ---------------------------------- 6.1/42.8 MB 6.5 MB/s eta 0:00:06\n",
      "     ----- ---------------------------------- 6.4/42.8 MB 6.5 MB/s eta 0:00:06\n",
      "     ------ --------------------------------- 6.7/42.8 MB 6.5 MB/s eta 0:00:06\n",
      "     ------ --------------------------------- 6.9/42.8 MB 6.5 MB/s eta 0:00:06\n",
      "     ------ --------------------------------- 7.2/42.8 MB 6.5 MB/s eta 0:00:06\n",
      "     ------ --------------------------------- 7.4/42.8 MB 6.4 MB/s eta 0:00:06\n",
      "     ------- -------------------------------- 7.7/42.8 MB 6.5 MB/s eta 0:00:06\n",
      "     ------- -------------------------------- 8.0/42.8 MB 6.5 MB/s eta 0:00:06\n",
      "     ------- -------------------------------- 8.3/42.8 MB 6.4 MB/s eta 0:00:06\n",
      "     ------- -------------------------------- 8.5/42.8 MB 6.4 MB/s eta 0:00:06\n",
      "     -------- ------------------------------- 8.7/42.8 MB 6.4 MB/s eta 0:00:06\n",
      "     -------- ------------------------------- 9.0/42.8 MB 6.4 MB/s eta 0:00:06\n",
      "     -------- ------------------------------- 9.3/42.8 MB 6.4 MB/s eta 0:00:06\n",
      "     -------- ------------------------------- 9.5/42.8 MB 6.4 MB/s eta 0:00:06\n",
      "     --------- ------------------------------ 9.8/42.8 MB 6.4 MB/s eta 0:00:06\n",
      "     --------- ------------------------------ 10.1/42.8 MB 6.4 MB/s eta 0:00:06\n",
      "     --------- ------------------------------ 10.4/42.8 MB 6.5 MB/s eta 0:00:06\n",
      "     --------- ------------------------------ 10.6/42.8 MB 6.3 MB/s eta 0:00:06\n",
      "     ---------- ----------------------------- 10.9/42.8 MB 6.2 MB/s eta 0:00:06\n",
      "     ---------- ----------------------------- 11.2/42.8 MB 6.1 MB/s eta 0:00:06\n",
      "     ---------- ----------------------------- 11.5/42.8 MB 6.1 MB/s eta 0:00:06\n",
      "     ----------- ---------------------------- 11.8/42.8 MB 6.1 MB/s eta 0:00:06\n",
      "     ----------- ---------------------------- 12.0/42.8 MB 6.1 MB/s eta 0:00:06\n",
      "     ----------- ---------------------------- 12.2/42.8 MB 6.1 MB/s eta 0:00:06\n",
      "     ----------- ---------------------------- 12.5/42.8 MB 6.1 MB/s eta 0:00:05\n",
      "     ----------- ---------------------------- 12.7/42.8 MB 6.1 MB/s eta 0:00:05\n",
      "     ------------ --------------------------- 13.0/42.8 MB 6.1 MB/s eta 0:00:05\n",
      "     ------------ --------------------------- 13.2/42.8 MB 6.1 MB/s eta 0:00:05\n",
      "     ------------ --------------------------- 13.4/42.8 MB 6.1 MB/s eta 0:00:05\n",
      "     ------------ --------------------------- 13.7/42.8 MB 6.1 MB/s eta 0:00:05\n",
      "     ------------- -------------------------- 14.0/42.8 MB 6.1 MB/s eta 0:00:05\n",
      "     ------------- -------------------------- 14.3/42.8 MB 6.0 MB/s eta 0:00:05\n",
      "     ------------- -------------------------- 14.5/42.8 MB 6.1 MB/s eta 0:00:05\n",
      "     ------------- -------------------------- 14.8/42.8 MB 6.1 MB/s eta 0:00:05\n",
      "     -------------- ------------------------- 15.0/42.8 MB 6.1 MB/s eta 0:00:05\n",
      "     -------------- ------------------------- 15.3/42.8 MB 6.1 MB/s eta 0:00:05\n",
      "     -------------- ------------------------- 15.6/42.8 MB 6.1 MB/s eta 0:00:05\n",
      "     -------------- ------------------------- 15.9/42.8 MB 6.1 MB/s eta 0:00:05\n",
      "     --------------- ------------------------ 16.1/42.8 MB 6.1 MB/s eta 0:00:05\n",
      "     --------------- ------------------------ 16.4/42.8 MB 6.1 MB/s eta 0:00:05\n",
      "     --------------- ------------------------ 16.7/42.8 MB 6.1 MB/s eta 0:00:05\n",
      "     --------------- ------------------------ 16.9/42.8 MB 6.1 MB/s eta 0:00:05\n",
      "     ---------------- ----------------------- 17.2/42.8 MB 6.1 MB/s eta 0:00:05\n",
      "     ---------------- ----------------------- 17.5/42.8 MB 6.1 MB/s eta 0:00:05\n",
      "     ---------------- ----------------------- 17.9/42.8 MB 6.1 MB/s eta 0:00:05\n",
      "     ---------------- ----------------------- 18.1/42.8 MB 6.1 MB/s eta 0:00:05\n",
      "     ----------------- ---------------------- 18.5/42.8 MB 6.1 MB/s eta 0:00:05\n",
      "     ----------------- ---------------------- 18.8/42.8 MB 6.1 MB/s eta 0:00:04\n",
      "     ----------------- ---------------------- 19.1/42.8 MB 6.1 MB/s eta 0:00:04\n",
      "     ------------------ --------------------- 19.3/42.8 MB 6.1 MB/s eta 0:00:04\n",
      "     ------------------ --------------------- 19.6/42.8 MB 6.1 MB/s eta 0:00:04\n",
      "     ------------------ --------------------- 19.8/42.8 MB 6.1 MB/s eta 0:00:04\n",
      "     ------------------ --------------------- 20.1/42.8 MB 6.1 MB/s eta 0:00:04\n",
      "     ------------------- -------------------- 20.4/42.8 MB 6.1 MB/s eta 0:00:04\n",
      "     ------------------- -------------------- 20.7/42.8 MB 6.1 MB/s eta 0:00:04\n",
      "     ------------------- -------------------- 21.0/42.8 MB 6.1 MB/s eta 0:00:04\n",
      "     ------------------- -------------------- 21.3/42.8 MB 6.1 MB/s eta 0:00:04\n",
      "     -------------------- ------------------- 21.6/42.8 MB 6.1 MB/s eta 0:00:04\n",
      "     -------------------- ------------------- 21.8/42.8 MB 6.1 MB/s eta 0:00:04\n",
      "     -------------------- ------------------- 22.1/42.8 MB 6.1 MB/s eta 0:00:04\n",
      "     -------------------- ------------------- 22.4/42.8 MB 6.1 MB/s eta 0:00:04\n",
      "     --------------------- ------------------ 22.6/42.8 MB 6.1 MB/s eta 0:00:04\n",
      "     --------------------- ------------------ 22.9/42.8 MB 6.1 MB/s eta 0:00:04\n",
      "     --------------------- ------------------ 23.2/42.8 MB 6.1 MB/s eta 0:00:04\n",
      "     --------------------- ------------------ 23.5/42.8 MB 6.1 MB/s eta 0:00:04\n",
      "     ---------------------- ----------------- 23.8/42.8 MB 6.1 MB/s eta 0:00:04\n",
      "     ---------------------- ----------------- 24.1/42.8 MB 6.1 MB/s eta 0:00:04\n",
      "     ---------------------- ----------------- 24.3/42.8 MB 6.1 MB/s eta 0:00:04\n",
      "     ----------------------- ---------------- 24.6/42.8 MB 6.1 MB/s eta 0:00:03\n",
      "     ----------------------- ---------------- 24.9/42.8 MB 6.0 MB/s eta 0:00:03\n",
      "     ----------------------- ---------------- 25.1/42.8 MB 6.1 MB/s eta 0:00:03\n",
      "     ----------------------- ---------------- 25.4/42.8 MB 6.1 MB/s eta 0:00:03\n",
      "     ------------------------ --------------- 25.7/42.8 MB 6.0 MB/s eta 0:00:03\n",
      "     ------------------------ --------------- 26.1/42.8 MB 6.1 MB/s eta 0:00:03\n",
      "     ------------------------ --------------- 26.3/42.8 MB 6.1 MB/s eta 0:00:03\n",
      "     ------------------------ --------------- 26.6/42.8 MB 6.1 MB/s eta 0:00:03\n",
      "     ------------------------- -------------- 26.9/42.8 MB 6.1 MB/s eta 0:00:03\n",
      "     ------------------------- -------------- 27.2/42.8 MB 6.0 MB/s eta 0:00:03\n",
      "     ------------------------- -------------- 27.5/42.8 MB 6.1 MB/s eta 0:00:03\n",
      "     ------------------------- -------------- 27.8/42.8 MB 6.1 MB/s eta 0:00:03\n",
      "     -------------------------- ------------- 28.1/42.8 MB 6.1 MB/s eta 0:00:03\n",
      "     -------------------------- ------------- 28.3/42.8 MB 6.1 MB/s eta 0:00:03\n",
      "     -------------------------- ------------- 28.6/42.8 MB 6.1 MB/s eta 0:00:03\n",
      "     --------------------------- ------------ 28.9/42.8 MB 6.0 MB/s eta 0:00:03\n",
      "     --------------------------- ------------ 29.2/42.8 MB 6.1 MB/s eta 0:00:03\n",
      "     --------------------------- ------------ 29.5/42.8 MB 6.1 MB/s eta 0:00:03\n",
      "     --------------------------- ------------ 29.8/42.8 MB 6.1 MB/s eta 0:00:03\n",
      "     ---------------------------- ----------- 30.0/42.8 MB 6.0 MB/s eta 0:00:03\n",
      "     ---------------------------- ----------- 30.3/42.8 MB 6.1 MB/s eta 0:00:03\n",
      "     ---------------------------- ----------- 30.6/42.8 MB 6.1 MB/s eta 0:00:03\n",
      "     ---------------------------- ----------- 30.8/42.8 MB 6.1 MB/s eta 0:00:02\n",
      "     ----------------------------- ---------- 31.1/42.8 MB 6.1 MB/s eta 0:00:02\n",
      "     ----------------------------- ---------- 31.4/42.8 MB 6.1 MB/s eta 0:00:02\n",
      "     ----------------------------- ---------- 31.7/42.8 MB 6.1 MB/s eta 0:00:02\n",
      "     ----------------------------- ---------- 31.9/42.8 MB 6.0 MB/s eta 0:00:02\n",
      "     ------------------------------ --------- 32.2/42.8 MB 6.1 MB/s eta 0:00:02\n",
      "     ------------------------------ --------- 32.5/42.8 MB 6.1 MB/s eta 0:00:02\n",
      "     ------------------------------ --------- 32.7/42.8 MB 6.1 MB/s eta 0:00:02\n",
      "     ------------------------------ --------- 32.9/42.8 MB 6.1 MB/s eta 0:00:02\n",
      "     ------------------------------- -------- 33.2/42.8 MB 6.1 MB/s eta 0:00:02\n",
      "     ------------------------------- -------- 33.5/42.8 MB 6.1 MB/s eta 0:00:02\n",
      "     ------------------------------- -------- 33.8/42.8 MB 6.1 MB/s eta 0:00:02\n",
      "     ------------------------------- -------- 34.1/42.8 MB 6.1 MB/s eta 0:00:02\n",
      "     -------------------------------- ------- 34.4/42.8 MB 6.1 MB/s eta 0:00:02\n",
      "     -------------------------------- ------- 34.7/42.8 MB 6.1 MB/s eta 0:00:02\n",
      "     -------------------------------- ------- 35.0/42.8 MB 6.1 MB/s eta 0:00:02\n",
      "     -------------------------------- ------- 35.3/42.8 MB 6.1 MB/s eta 0:00:02\n",
      "     --------------------------------- ------ 35.6/42.8 MB 6.1 MB/s eta 0:00:02\n",
      "     --------------------------------- ------ 35.8/42.8 MB 6.1 MB/s eta 0:00:02\n",
      "     --------------------------------- ------ 36.1/42.8 MB 6.1 MB/s eta 0:00:02\n",
      "     ---------------------------------- ----- 36.4/42.8 MB 6.1 MB/s eta 0:00:02\n",
      "     ---------------------------------- ----- 36.7/42.8 MB 6.1 MB/s eta 0:00:02\n",
      "     ---------------------------------- ----- 37.0/42.8 MB 6.1 MB/s eta 0:00:01\n",
      "     ---------------------------------- ----- 37.3/42.8 MB 6.1 MB/s eta 0:00:01\n",
      "     ----------------------------------- ---- 37.6/42.8 MB 6.1 MB/s eta 0:00:01\n",
      "     ----------------------------------- ---- 37.9/42.8 MB 6.1 MB/s eta 0:00:01\n",
      "     ----------------------------------- ---- 38.2/42.8 MB 6.1 MB/s eta 0:00:01\n",
      "     ------------------------------------ --- 38.5/42.8 MB 6.1 MB/s eta 0:00:01\n",
      "     ------------------------------------ --- 38.8/42.8 MB 6.1 MB/s eta 0:00:01\n",
      "     ------------------------------------ --- 39.0/42.8 MB 6.1 MB/s eta 0:00:01\n",
      "     ------------------------------------ --- 39.3/42.8 MB 6.1 MB/s eta 0:00:01\n",
      "     ------------------------------------- -- 39.6/42.8 MB 6.1 MB/s eta 0:00:01\n",
      "     ------------------------------------- -- 39.9/42.8 MB 6.1 MB/s eta 0:00:01\n",
      "     ------------------------------------- -- 40.2/42.8 MB 6.1 MB/s eta 0:00:01\n",
      "     ------------------------------------- -- 40.5/42.8 MB 6.1 MB/s eta 0:00:01\n",
      "     -------------------------------------- - 40.8/42.8 MB 6.1 MB/s eta 0:00:01\n",
      "     -------------------------------------- - 41.1/42.8 MB 6.1 MB/s eta 0:00:01\n",
      "     -------------------------------------- - 41.4/42.8 MB 6.1 MB/s eta 0:00:01\n",
      "     ---------------------------------------  41.7/42.8 MB 6.1 MB/s eta 0:00:01\n",
      "     ---------------------------------------  42.0/42.8 MB 6.1 MB/s eta 0:00:01\n",
      "     ---------------------------------------  42.2/42.8 MB 6.1 MB/s eta 0:00:01\n",
      "     ---------------------------------------  42.5/42.8 MB 6.1 MB/s eta 0:00:01\n",
      "     ---------------------------------------  42.8/42.8 MB 6.1 MB/s eta 0:00:01\n",
      "     ---------------------------------------  42.8/42.8 MB 6.1 MB/s eta 0:00:01\n",
      "     ---------------------------------------- 42.8/42.8 MB 5.9 MB/s eta 0:00:00\n",
      "Requirement already satisfied: spacy<3.8.0,>=3.7.2 in c:\\users\\manjusha kumari\\appdata\\roaming\\python\\python311\\site-packages (from en-core-web-md==3.7.1) (3.7.4)\n",
      "Requirement already satisfied: spacy-legacy<3.1.0,>=3.0.11 in c:\\users\\manjusha kumari\\appdata\\roaming\\python\\python311\\site-packages (from spacy<3.8.0,>=3.7.2->en-core-web-md==3.7.1) (3.0.12)\n",
      "Requirement already satisfied: spacy-loggers<2.0.0,>=1.0.0 in c:\\users\\manjusha kumari\\appdata\\roaming\\python\\python311\\site-packages (from spacy<3.8.0,>=3.7.2->en-core-web-md==3.7.1) (1.0.5)\n",
      "Requirement already satisfied: murmurhash<1.1.0,>=0.28.0 in c:\\users\\manjusha kumari\\appdata\\roaming\\python\\python311\\site-packages (from spacy<3.8.0,>=3.7.2->en-core-web-md==3.7.1) (1.0.10)\n",
      "Requirement already satisfied: cymem<2.1.0,>=2.0.2 in c:\\users\\manjusha kumari\\appdata\\roaming\\python\\python311\\site-packages (from spacy<3.8.0,>=3.7.2->en-core-web-md==3.7.1) (2.0.8)\n",
      "Requirement already satisfied: preshed<3.1.0,>=3.0.2 in c:\\users\\manjusha kumari\\appdata\\roaming\\python\\python311\\site-packages (from spacy<3.8.0,>=3.7.2->en-core-web-md==3.7.1) (3.0.9)\n",
      "Requirement already satisfied: thinc<8.3.0,>=8.2.2 in c:\\users\\manjusha kumari\\appdata\\roaming\\python\\python311\\site-packages (from spacy<3.8.0,>=3.7.2->en-core-web-md==3.7.1) (8.2.3)\n",
      "Requirement already satisfied: wasabi<1.2.0,>=0.9.1 in c:\\users\\manjusha kumari\\appdata\\roaming\\python\\python311\\site-packages (from spacy<3.8.0,>=3.7.2->en-core-web-md==3.7.1) (1.1.2)\n",
      "Requirement already satisfied: srsly<3.0.0,>=2.4.3 in c:\\users\\manjusha kumari\\appdata\\roaming\\python\\python311\\site-packages (from spacy<3.8.0,>=3.7.2->en-core-web-md==3.7.1) (2.4.8)\n",
      "Requirement already satisfied: catalogue<2.1.0,>=2.0.6 in c:\\users\\manjusha kumari\\appdata\\roaming\\python\\python311\\site-packages (from spacy<3.8.0,>=3.7.2->en-core-web-md==3.7.1) (2.0.10)\n",
      "Requirement already satisfied: weasel<0.4.0,>=0.1.0 in c:\\users\\manjusha kumari\\appdata\\roaming\\python\\python311\\site-packages (from spacy<3.8.0,>=3.7.2->en-core-web-md==3.7.1) (0.3.4)\n",
      "Requirement already satisfied: typer<0.10.0,>=0.3.0 in c:\\users\\manjusha kumari\\appdata\\roaming\\python\\python311\\site-packages (from spacy<3.8.0,>=3.7.2->en-core-web-md==3.7.1) (0.9.4)\n",
      "Requirement already satisfied: smart-open<7.0.0,>=5.2.1 in c:\\programdata\\anaconda3\\lib\\site-packages (from spacy<3.8.0,>=3.7.2->en-core-web-md==3.7.1) (5.2.1)\n",
      "Requirement already satisfied: tqdm<5.0.0,>=4.38.0 in c:\\programdata\\anaconda3\\lib\\site-packages (from spacy<3.8.0,>=3.7.2->en-core-web-md==3.7.1) (4.65.0)\n",
      "Requirement already satisfied: requests<3.0.0,>=2.13.0 in c:\\programdata\\anaconda3\\lib\\site-packages (from spacy<3.8.0,>=3.7.2->en-core-web-md==3.7.1) (2.31.0)\n",
      "Requirement already satisfied: pydantic!=1.8,!=1.8.1,<3.0.0,>=1.7.4 in c:\\programdata\\anaconda3\\lib\\site-packages (from spacy<3.8.0,>=3.7.2->en-core-web-md==3.7.1) (1.10.12)\n",
      "Requirement already satisfied: jinja2 in c:\\programdata\\anaconda3\\lib\\site-packages (from spacy<3.8.0,>=3.7.2->en-core-web-md==3.7.1) (3.1.3)\n",
      "Requirement already satisfied: setuptools in c:\\programdata\\anaconda3\\lib\\site-packages (from spacy<3.8.0,>=3.7.2->en-core-web-md==3.7.1) (68.2.2)\n",
      "Requirement already satisfied: packaging>=20.0 in c:\\programdata\\anaconda3\\lib\\site-packages (from spacy<3.8.0,>=3.7.2->en-core-web-md==3.7.1) (23.1)\n",
      "Requirement already satisfied: langcodes<4.0.0,>=3.2.0 in c:\\users\\manjusha kumari\\appdata\\roaming\\python\\python311\\site-packages (from spacy<3.8.0,>=3.7.2->en-core-web-md==3.7.1) (3.3.0)\n",
      "Requirement already satisfied: numpy>=1.19.0 in c:\\programdata\\anaconda3\\lib\\site-packages (from spacy<3.8.0,>=3.7.2->en-core-web-md==3.7.1) (1.26.4)\n",
      "Requirement already satisfied: typing-extensions>=4.2.0 in c:\\programdata\\anaconda3\\lib\\site-packages (from pydantic!=1.8,!=1.8.1,<3.0.0,>=1.7.4->spacy<3.8.0,>=3.7.2->en-core-web-md==3.7.1) (4.9.0)\n",
      "Requirement already satisfied: charset-normalizer<4,>=2 in c:\\programdata\\anaconda3\\lib\\site-packages (from requests<3.0.0,>=2.13.0->spacy<3.8.0,>=3.7.2->en-core-web-md==3.7.1) (2.0.4)\n",
      "Requirement already satisfied: idna<4,>=2.5 in c:\\programdata\\anaconda3\\lib\\site-packages (from requests<3.0.0,>=2.13.0->spacy<3.8.0,>=3.7.2->en-core-web-md==3.7.1) (3.4)\n",
      "Requirement already satisfied: urllib3<3,>=1.21.1 in c:\\programdata\\anaconda3\\lib\\site-packages (from requests<3.0.0,>=2.13.0->spacy<3.8.0,>=3.7.2->en-core-web-md==3.7.1) (2.0.7)\n",
      "Requirement already satisfied: certifi>=2017.4.17 in c:\\programdata\\anaconda3\\lib\\site-packages (from requests<3.0.0,>=2.13.0->spacy<3.8.0,>=3.7.2->en-core-web-md==3.7.1) (2024.2.2)\n",
      "Requirement already satisfied: blis<0.8.0,>=0.7.8 in c:\\users\\manjusha kumari\\appdata\\roaming\\python\\python311\\site-packages (from thinc<8.3.0,>=8.2.2->spacy<3.8.0,>=3.7.2->en-core-web-md==3.7.1) (0.7.11)\n",
      "Requirement already satisfied: confection<1.0.0,>=0.0.1 in c:\\users\\manjusha kumari\\appdata\\roaming\\python\\python311\\site-packages (from thinc<8.3.0,>=8.2.2->spacy<3.8.0,>=3.7.2->en-core-web-md==3.7.1) (0.1.4)\n",
      "Requirement already satisfied: colorama in c:\\programdata\\anaconda3\\lib\\site-packages (from tqdm<5.0.0,>=4.38.0->spacy<3.8.0,>=3.7.2->en-core-web-md==3.7.1) (0.4.6)\n",
      "Requirement already satisfied: click<9.0.0,>=7.1.1 in c:\\programdata\\anaconda3\\lib\\site-packages (from typer<0.10.0,>=0.3.0->spacy<3.8.0,>=3.7.2->en-core-web-md==3.7.1) (8.1.7)\n",
      "Requirement already satisfied: cloudpathlib<0.17.0,>=0.7.0 in c:\\users\\manjusha kumari\\appdata\\roaming\\python\\python311\\site-packages (from weasel<0.4.0,>=0.1.0->spacy<3.8.0,>=3.7.2->en-core-web-md==3.7.1) (0.16.0)\n",
      "Requirement already satisfied: MarkupSafe>=2.0 in c:\\programdata\\anaconda3\\lib\\site-packages (from jinja2->spacy<3.8.0,>=3.7.2->en-core-web-md==3.7.1) (2.1.3)\n",
      "Installing collected packages: en-core-web-md\n",
      "Successfully installed en-core-web-md-3.7.1\n",
      "\u001b[38;5;2m✔ Download and installation successful\u001b[0m\n",
      "You can now load the package via spacy.load('en_core_web_md')\n"
     ]
    }
   ],
   "source": [
    "import spacy \n",
    "!python -m spacy download en_core_web_md"
   ]
  },
  {
   "cell_type": "code",
   "execution_count": 6,
   "metadata": {},
   "outputs": [
    {
     "name": "stdout",
     "output_type": "stream",
     "text": [
      "The United States of America (U.S.A. or USA), commonly known as the United States (U.S. or US) or America, is a country primarily located in North America. It consists of 50 states, a federal district, five major unincorporated territories, 326 Indian reservations, and some minor possessions.[j] At 3.8 million square miles (9.8 million square kilometers), it is the world's third- or fourth-largest country by total area.[d] The United States shares significant land borders with Canada to the north and Mexico to the south, as well as limited maritime borders with the Bahamas, Cuba, and Russia.[22] With a population of more than 331 million people, it is the third most populous country in the world. The national capital is Washington, D.C., and the most populous city is New York.\n",
      "\n",
      "Paleo-Indians migrated from Siberia to the North American mainland at least 12,000 years ago, and European colonization began in the 16th century. The United States emerged from the thirteen British colonies established along the East Coast. Disputes over taxation and political representation with Great Britain led to the American Revolutionary War (1775–1783), which established independence. In the late 18th century, the U.S. began expanding across North America, gradually obtaining new territories, sometimes through war, frequently displacing Native Americans, and admitting new states; by 1848, the United States spanned the continent. Slavery was legal in the southern United States until the second half of the 19th century when the American Civil War led to its abolition. The Spanish–American War and World War I established the U.S. as a world power, a status confirmed by the outcome of World War II.\n",
      "\n",
      "During the Cold War, the United States fought the Korean War and the Vietnam War but avoided direct military conflict with the Soviet Union. The two superpowers competed in the Space Race, culminating in the 1969 spaceflight that first landed humans on the Moon. The Soviet Union's dissolution in 1991 ended the Cold War, leaving the United States as the world's sole superpower.\n",
      "\n",
      "The United States is a federal republic and a representative democracy with three separate branches of government, including a bicameral legislature. It is a founding member of the United Nations, World Bank, International Monetary Fund, Organization of American States, NATO, and other international organizations. It is a permanent member of the United Nations Security Council. Considered a melting pot of cultures and ethnicities, its population has been profoundly shaped by centuries of immigration. The country ranks high in international measures of economic freedom, quality of life, education, and human rights, and has low levels of perceived corruption. However, the country has received criticism concerning inequality related to race, wealth and income, the use of capital punishment, high incarceration rates, and lack of universal health care.\n",
      "\n",
      "The United States is a highly developed country, accounts for approximately a quarter of global GDP, and is the world's largest economy. By value, the United States is the world's largest importer and the second-largest exporter of goods. Although its population is only 4.2% of the world's total, it holds 29.4% of the total wealth in the world, the largest share held by any country. Making up more than a third of global military spending, it is the foremost military power in the world; and it is a leading political, cultural, and scientific force internationally.[23]\n"
     ]
    }
   ],
   "source": [
    "nlp = spacy.load(\"en_core_web_md\")\n",
    "# print(nlp)\n",
    "with open (\"F:\\spaCy-master\\data\\wiki_us.txt\", \"r\") as f:\n",
    "    text = f.read()\n",
    "    print(text)"
   ]
  },
  {
   "cell_type": "markdown",
   "metadata": {},
   "source": [
    "## 3.1 word vectors \n",
    "\n",
    "word vectors, or word embeddings, are numerical representation of words in multidimensional space through matrics. The purpose of the word vecor is to get a computer system to understand a word. Computer cannot understand text efficiently. They can, however, process number quickly and well. for this reason it is important to convert a word into a number\n",
    "\n",
    "\n",
    "initial methods for creating word vectors in a pipeline take all words in a corpus and covert them into a single unique number. these words are then stored in a dictonary that would look like this: {\"this\":1, \"a\":2} etc. This is know as bag of words. This approch to representing word numerically, however, only allow a computer to understand words numerically to identify to identify unique words. it does ot howerver allow a computer understand meaning.\n",
    "\n",
    "Imagine this scenario:\n",
    "\n",
    "Tom loves to eat chocolate.\n",
    "\n",
    "Tom likes to eat chocolate.\n",
    "\n",
    "These sentences represented as a numerical array (list) would look like this:\n",
    "\n",
    "1, 2, 3, 4, 5\n",
    "\n",
    "1, 6, 3, 4, 5\n",
    "\n",
    "As we can see, as humans both sentences are nearly identical. The only difference is the degree to which Tom appreciates eating chocolate. If we examine the numbers, however, these two sentences seem quite close, but their semantical meaning is impossible to know for certain. How similar is 2 to 6? The number 6 could represent “hates” as much as it could represent “likes”. This is where word vectors come in.\n",
    "\n",
    "Word vectors take these one dimensional bag of words and gives them multidimensional meaning by representing them in higher dimensional space, noted above. This is achieved through machine learning and can be easily achieved via Python libraries, such as Gensim, which we will explore more closely in the next notebook.\n"
   ]
  },
  {
   "cell_type": "markdown",
   "metadata": {},
   "source": [
    "### 3.1 why use word vectors ?\n",
    "\n",
    "the goal of word vector is to achieve numerical understanding of language so that a computer can perform more complex tasks on that corpus. Let's consider to example above. How do we get a computer to understand 2 and 6 are synonyms or mean something similar? One option you might be thinking is to simply give the computer a synonyms dictionary. it can look up synonyms and then know what words mean. this approach, on the surface make perform sense, but let's explore that option and see why it cannot possibly work. \n",
    "\n",
    "for the example below we will using the python library PyDictionary with allow us to look up difinitions and synonyms of words."
   ]
  },
  {
   "cell_type": "code",
   "execution_count": 31,
   "metadata": {},
   "outputs": [],
   "source": [
    "import PyDictionary"
   ]
  },
  {
   "cell_type": "code",
   "execution_count": 29,
   "metadata": {},
   "outputs": [
    {
     "name": "stdout",
     "output_type": "stream",
     "text": [
      "Defaulting to user installation because normal site-packages is not writeable\n",
      "Collecting goslate\n",
      "  Cloning https://github.com/yeahwhat-mc/goslate.git to c:\\users\\manjusha kumari\\appdata\\local\\temp\\pip-install-uml438m5\\goslate_f974e8c654ea452cb2438a05b931ba81\n",
      "  Resolved https://github.com/yeahwhat-mc/goslate.git to commit d6d511a9c001fe0b5c1cf947fd650770e9794f1d\n",
      "  Preparing metadata (setup.py): started\n",
      "  Preparing metadata (setup.py): finished with status 'done'\n",
      "Building wheels for collected packages: goslate\n",
      "  Building wheel for goslate (setup.py): started\n",
      "  Building wheel for goslate (setup.py): finished with status 'done'\n",
      "  Created wheel for goslate: filename=goslate-1.4.0-py3-none-any.whl size=8474 sha256=d9008b5328b8c18103836a9adf63082819bde1ee1ad979e2585a9ff9d63b07ef\n",
      "  Stored in directory: C:\\Users\\Manjusha Kumari\\AppData\\Local\\Temp\\pip-ephem-wheel-cache-r_1xhsdd\\wheels\\b4\\38\\a9\\671017557f39192003435f1a1d788cf330998a5c91c6b278f5\n",
      "Successfully built goslate\n",
      "Installing collected packages: goslate\n",
      "Successfully installed goslate-1.4.0\n"
     ]
    },
    {
     "name": "stderr",
     "output_type": "stream",
     "text": [
      "  Running command git clone --filter=blob:none --quiet https://github.com/yeahwhat-mc/goslate.git 'C:\\Users\\Manjusha Kumari\\AppData\\Local\\Temp\\pip-install-uml438m5\\goslate_f974e8c654ea452cb2438a05b931ba81'\n"
     ]
    }
   ],
   "source": [
    "!pip install git+https://github.com/yeahwhat-mc/goslate.git#egg=goslate\n"
   ]
  },
  {
   "cell_type": "code",
   "execution_count": 30,
   "metadata": {},
   "outputs": [
    {
     "name": "stdout",
     "output_type": "stream",
     "text": [
      "Defaulting to user installation because normal site-packages is not writeable\n",
      "Collecting PyDictionary\n",
      "  Using cached PyDictionary-2.0.1-py3-none-any.whl.metadata (4.0 kB)\n",
      "Collecting bs4 (from PyDictionary)\n",
      "  Using cached bs4-0.0.2-py2.py3-none-any.whl.metadata (411 bytes)\n",
      "Requirement already satisfied: click in c:\\programdata\\anaconda3\\lib\\site-packages (from PyDictionary) (8.1.7)\n",
      "Requirement already satisfied: goslate in c:\\users\\manjusha kumari\\appdata\\roaming\\python\\python311\\site-packages (from PyDictionary) (1.4.0)\n",
      "Requirement already satisfied: requests in c:\\programdata\\anaconda3\\lib\\site-packages (from PyDictionary) (2.31.0)\n",
      "Requirement already satisfied: beautifulsoup4 in c:\\programdata\\anaconda3\\lib\\site-packages (from bs4->PyDictionary) (4.12.2)\n",
      "Requirement already satisfied: colorama in c:\\programdata\\anaconda3\\lib\\site-packages (from click->PyDictionary) (0.4.6)\n",
      "Requirement already satisfied: charset-normalizer<4,>=2 in c:\\programdata\\anaconda3\\lib\\site-packages (from requests->PyDictionary) (2.0.4)\n",
      "Requirement already satisfied: idna<4,>=2.5 in c:\\programdata\\anaconda3\\lib\\site-packages (from requests->PyDictionary) (3.4)\n",
      "Requirement already satisfied: urllib3<3,>=1.21.1 in c:\\programdata\\anaconda3\\lib\\site-packages (from requests->PyDictionary) (2.0.7)\n",
      "Requirement already satisfied: certifi>=2017.4.17 in c:\\programdata\\anaconda3\\lib\\site-packages (from requests->PyDictionary) (2024.2.2)\n",
      "Requirement already satisfied: soupsieve>1.2 in c:\\programdata\\anaconda3\\lib\\site-packages (from beautifulsoup4->bs4->PyDictionary) (2.5)\n",
      "Downloading PyDictionary-2.0.1-py3-none-any.whl (6.1 kB)\n",
      "Downloading bs4-0.0.2-py2.py3-none-any.whl (1.2 kB)\n",
      "Installing collected packages: bs4, PyDictionary\n",
      "Successfully installed PyDictionary-2.0.1 bs4-0.0.2\n"
     ]
    }
   ],
   "source": [
    "!pip install PyDictionary\n"
   ]
  },
  {
   "cell_type": "code",
   "execution_count": 34,
   "metadata": {},
   "outputs": [
    {
     "name": "stdout",
     "output_type": "stream",
     "text": [
      "Tom has no Synonyms in the API\n",
      "None\n",
      "loves has no Synonyms in the API\n",
      "None\n",
      "to has no Synonyms in the API\n",
      "None\n",
      "eat has no Synonyms in the API\n",
      "None\n",
      "chocolate has no Synonyms in the API\n",
      "None\n"
     ]
    }
   ],
   "source": [
    "from PyDictionary import PyDictionary\n",
    "\n",
    "dictionary = PyDictionary()\n",
    "# print(dictionary)\n",
    "\n",
    "text = \"Tom loves to eat chocolate\"\n",
    "words = text.split()\n",
    "for word in words:\n",
    "    # print(word)\n",
    "    syns = dictionary.synonym(word)\n",
    "    print(syns)"
   ]
  },
  {
   "cell_type": "markdown",
   "metadata": {},
   "source": [
    "Even with the simple sentence, the results are comically bad. Why? The reason is because synonym substitution, a common method of data augmentation, does not take into account syntactical differences of synonyms. I do not believe anyone would think “Felis domesticus”, the Latin name of the common house cat, would be an adequite substitution for the name Tom. Nor is “garbage down” a really proper synonym for eat.\n",
    "\n",
    "Perhaps, then we could use synonyms to find words that have cross-terms, or terms that appear in both synonym sets."
   ]
  },
  {
   "cell_type": "code",
   "execution_count": null,
   "metadata": {},
   "outputs": [],
   "source": []
  }
 ],
 "metadata": {
  "kernelspec": {
   "display_name": "base",
   "language": "python",
   "name": "python3"
  },
  "language_info": {
   "codemirror_mode": {
    "name": "ipython",
    "version": 3
   },
   "file_extension": ".py",
   "mimetype": "text/x-python",
   "name": "python",
   "nbconvert_exporter": "python",
   "pygments_lexer": "ipython3",
   "version": "3.11.7"
  }
 },
 "nbformat": 4,
 "nbformat_minor": 2
}
