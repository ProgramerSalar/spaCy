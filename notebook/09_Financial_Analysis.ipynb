{
 "cells": [
  {
   "cell_type": "markdown",
   "metadata": {},
   "source": [
    "# 10. Financial Analysis"
   ]
  },
  {
   "cell_type": "code",
   "execution_count": 4,
   "metadata": {},
   "outputs": [],
   "source": [
    "import spacy \n",
    "import pandas as pd"
   ]
  },
  {
   "cell_type": "code",
   "execution_count": 5,
   "metadata": {},
   "outputs": [
    {
     "name": "stderr",
     "output_type": "stream",
     "text": [
      "<>:1: SyntaxWarning: invalid escape sequence '\\s'\n",
      "<>:1: SyntaxWarning: invalid escape sequence '\\s'\n",
      "C:\\Users\\Manjusha Kumari\\AppData\\Local\\Temp\\ipykernel_10156\\1687176814.py:1: SyntaxWarning: invalid escape sequence '\\s'\n",
      "  df = pd.read_csv(\"F:\\spaCy-master\\data\\stocks.tsv\", sep=\"\\t\")\n"
     ]
    }
   ],
   "source": [
    "df = pd.read_csv(\"F:\\spaCy-master\\data\\stocks.tsv\", sep=\"\\t\")\n"
   ]
  },
  {
   "cell_type": "markdown",
   "metadata": {},
   "source": [
    "* sep=\"\\\\t\": This parameter specifies the delimiter to use. In this case, \\\\t represents a tab character, which is the delimiter in a TSV file."
   ]
  },
  {
   "cell_type": "code",
   "execution_count": 6,
   "metadata": {},
   "outputs": [
    {
     "data": {
      "text/html": [
       "<div>\n",
       "<style scoped>\n",
       "    .dataframe tbody tr th:only-of-type {\n",
       "        vertical-align: middle;\n",
       "    }\n",
       "\n",
       "    .dataframe tbody tr th {\n",
       "        vertical-align: top;\n",
       "    }\n",
       "\n",
       "    .dataframe thead th {\n",
       "        text-align: right;\n",
       "    }\n",
       "</style>\n",
       "<table border=\"1\" class=\"dataframe\">\n",
       "  <thead>\n",
       "    <tr style=\"text-align: right;\">\n",
       "      <th></th>\n",
       "      <th>Symbol</th>\n",
       "      <th>CompanyName</th>\n",
       "      <th>Industry</th>\n",
       "      <th>MarketCap</th>\n",
       "    </tr>\n",
       "  </thead>\n",
       "  <tbody>\n",
       "    <tr>\n",
       "      <th>0</th>\n",
       "      <td>A</td>\n",
       "      <td>Agilent Technologies</td>\n",
       "      <td>Life Sciences Tools &amp; Services</td>\n",
       "      <td>53.65B</td>\n",
       "    </tr>\n",
       "    <tr>\n",
       "      <th>1</th>\n",
       "      <td>AA</td>\n",
       "      <td>Alcoa</td>\n",
       "      <td>Metals &amp; Mining</td>\n",
       "      <td>9.25B</td>\n",
       "    </tr>\n",
       "    <tr>\n",
       "      <th>2</th>\n",
       "      <td>AAC</td>\n",
       "      <td>Ares Acquisition</td>\n",
       "      <td>Shell Companies</td>\n",
       "      <td>1.22B</td>\n",
       "    </tr>\n",
       "    <tr>\n",
       "      <th>3</th>\n",
       "      <td>AACG</td>\n",
       "      <td>ATA Creativity Global</td>\n",
       "      <td>Diversified Consumer Services</td>\n",
       "      <td>90.35M</td>\n",
       "    </tr>\n",
       "    <tr>\n",
       "      <th>4</th>\n",
       "      <td>AADI</td>\n",
       "      <td>Aadi Bioscience</td>\n",
       "      <td>Pharmaceuticals</td>\n",
       "      <td>104.85M</td>\n",
       "    </tr>\n",
       "  </tbody>\n",
       "</table>\n",
       "</div>"
      ],
      "text/plain": [
       "  Symbol            CompanyName                        Industry MarketCap\n",
       "0      A   Agilent Technologies  Life Sciences Tools & Services    53.65B\n",
       "1     AA                  Alcoa                 Metals & Mining     9.25B\n",
       "2    AAC       Ares Acquisition                 Shell Companies     1.22B\n",
       "3   AACG  ATA Creativity Global   Diversified Consumer Services    90.35M\n",
       "4   AADI        Aadi Bioscience                 Pharmaceuticals   104.85M"
      ]
     },
     "execution_count": 6,
     "metadata": {},
     "output_type": "execute_result"
    }
   ],
   "source": [
    "df.head()"
   ]
  },
  {
   "cell_type": "code",
   "execution_count": 7,
   "metadata": {},
   "outputs": [
    {
     "name": "stdout",
     "output_type": "stream",
     "text": [
      "['A', 'AA', 'AAC', 'AACG', 'AADI', 'AAIC', 'AAL', 'AAMC', 'AAME', 'AAN', 'AAOI', 'AAON', 'AAP', 'AAPL', 'AAQC', 'AAT', 'AATC', 'AAU', 'AAWW', 'AB', 'ABB', 'ABBV', 'ABC', 'ABCB', 'ABCL', 'ABCM', 'ABEO', 'ABEV', 'ABG', 'ABGI', 'ABIO', 'ABM', 'ABMD', 'ABNB', 'ABOS', 'ABR', 'ABSI', 'ABST', 'ABT', 'ABTX', 'ABUS', 'ABVC', 'AC', 'ACA', 'ACAD', 'ACAH', 'ACB', 'ACBA', 'ACBI', 'ACC', 'ACCD', 'ACCO', 'ACEL', 'ACER', 'ACET', 'ACEV', 'ACGL', 'ACH', 'ACHC', 'ACHL', 'ACHV', 'ACI', 'ACIC', 'ACII', 'ACIU', 'ACIW', 'ACKIT', 'ACLS', 'ACM', 'ACMR', 'ACN', 'ACNB', 'ACOR', 'ACQR', 'ACR', 'ACRE', 'ACRO', 'ACRS', 'ACRX', 'ACST', 'ACTD', 'ACTG', 'ACU', 'ACVA', 'ACXP', 'ACY', 'ADAG', 'ADAP', 'ADBE', 'ADC', 'ADCT', 'ADER', 'ADES', 'ADEX', 'ADF', 'ADGI', 'ADI', 'ADIL', 'ADM', 'ADMA', 'ADMP', 'ADMS', 'ADN', 'ADNT', 'ADOC', 'ADP', 'ADPT', 'ADRA', 'ADS', 'ADSK', 'ADT', 'ADTN', 'ADTX', 'ADUS', 'ADV', 'ADVM', 'ADXN', 'ADXS', 'AE', 'AEAC', 'AEE', 'AEG', 'AEHL', 'AEHR', 'AEI', 'AEIS', 'AEL', 'AEM', 'AEMD', 'AENZ', 'AEO', 'AEP', 'AER', 'AERI', 'AES', 'AESE', 'AEVA', 'AEY', 'AEYE', 'AEZS', 'AFAQ', 'AFBI', 'AFCG', 'AFG', 'AFI', 'AFIB', 'AFIN', 'AFL', 'AFMD', 'AFRM', 'AFYA', 'AG', 'AGAC', 'AGBA', 'AGC', 'AGCB', 'AGCO', 'AGE', 'AGEN', 'AGFS', 'AGFY', 'AGGR', 'AGI', 'AGIL', 'AGIO', 'AGL', 'AGLE', 'AGM', 'AGM.A', 'AGMH', 'AGNC', 'AGO', 'AGR', 'AGRI', 'AGRO', 'AGRX', 'AGS', 'AGTC', 'AGTI', 'AGX', 'AGYS', 'AHCO', 'AHH', 'AHPI', 'AHT', 'AI', 'AIG', 'AIH', 'AIHS', 'AIKI', 'AIM', 'AIMC', 'AIN', 'AINC', 'AINV', 'AIR', 'AIRC', 'AIRG', 'AIRI', 'AIRT', 'AIT', 'AIV', 'AIZ', 'AJG', 'AJRD', 'AJX', 'AKAM', 'AKBA', 'AKIC', 'AKO.A', 'AKO.B', 'AKR', 'AKRO', 'AKTS', 'AKTX', 'AKU', 'AKUS', 'AKYA', 'AL', 'ALAC', 'ALB', 'ALBO', 'ALC', 'ALCC', 'ALCO', 'ALDX', 'ALE', 'ALEC', 'ALEX', 'ALF', 'ALG', 'ALGM', 'ALGN', 'ALGS', 'ALGT', 'ALHC', 'ALIM', 'ALIT', 'ALJJ', 'ALK', 'ALKS', 'ALKT', 'ALL', 'ALLE', 'ALLK', 'ALLO', 'ALLT', 'ALLY', 'ALNA', 'ALNY', 'ALOT', 'ALPN', 'ALRM', 'ALRN', 'ALRS', 'ALSN', 'ALT', 'ALTA', 'ALTG', 'ALTM', 'ALTO', 'ALTR', 'ALTU', 'ALV', 'ALVR', 'ALX', 'ALXO', 'ALYA', 'ALZN', 'AM', 'AMAL', 'AMAM', 'AMAO', 'AMAT', 'AMBA', 'AMBC', 'AMBO', 'AMBP', 'AMC', 'AMCR', 'AMCX', 'AMD', 'AME', 'AMED', 'AMEH', 'AMG', 'AMGN', 'AMH', 'AMHC', 'AMK', 'AMKR', 'AMN', 'AMNB', 'AMOT', 'AMOV', 'AMP', 'AMPE', 'AMPG', 'AMPH', 'AMPI', 'AMPY', 'AMR', 'AMRC', 'AMRK', 'AMRN', 'AMRS', 'AMRX', 'AMS', 'AMSC', 'AMSF', 'AMST', 'AMSWA', 'AMT', 'AMTB', 'AMTBB', 'AMTI', 'AMTX', 'AMWD', 'AMWL', 'AMX', 'AMYT', 'AMZN', 'AN', 'ANAB', 'ANAC', 'ANAT', 'ANDE', 'ANEB', 'ANET', 'ANF', 'ANGI', 'ANGN', 'ANGO', 'ANIK', 'ANIP', 'ANIX', 'ANNX', 'ANPC', 'ANSS', 'ANTE', 'ANTM', 'ANVS', 'ANY', 'ANZU', 'AOMR', 'AON', 'AOS', 'AOSL', 'AOUT', 'AP', 'APA', 'APAM', 'APD', 'APDN', 'APEI', 'APEN', 'APG', 'APGB', 'APH', 'API', 'APLE', 'APLS', 'APLT', 'APM', 'APO', 'APOG', 'APOP', 'APP', 'APPF', 'APPH', 'APPN', 'APPS', 'APR', 'APRE', 'APRN', 'APSG', 'APT', 'APTO', 'APTS', 'APTV', 'APTX', 'APVO', 'APWC', 'APYX', 'AQB', 'AQMS', 'AQN', 'AQST', 'AQUA', 'AR', 'ARAV', 'ARAY', 'ARBG', 'ARC', 'ARCB', 'ARCC', 'ARCE', 'ARCH', 'ARCO', 'ARCT', 'ARD', 'ARDS', 'ARDX', 'ARE', 'AREC', 'ARES', 'ARGO', 'ARGX', 'ARI', 'ARKO', 'ARKR', 'ARL', 'ARLO', 'ARLP', 'ARMK', 'ARMP', 'ARNA', 'ARNC', 'AROC', 'AROW', 'ARQQ', 'ARQT', 'ARR', 'ARRW', 'ARRY', 'ARTA', 'ARTL', 'ARTNA', 'ARTW', 'ARVL', 'ARVN', 'ARW', 'ARWR', 'ARYD', 'ARYE', 'ASA', 'ASAI', 'ASAN', 'ASAQ', 'ASAX', 'ASB', 'ASC', 'ASGN', 'ASH', 'ASIX', 'ASLE', 'ASLN', 'ASM', 'ASMB', 'ASML', 'ASND', 'ASO', 'ASPC', 'ASPN', 'ASPS', 'ASPU', 'ASR', 'ASRT', 'ASRV', 'ASTC', 'ASTE', 'ASTR', 'ASTS', 'ASUR', 'ASX', 'ASXC', 'ASYS', 'ASZ', 'ATA', 'ATAI', 'ATAQ', 'ATAX', 'ATC', 'ATCO', 'ATCX', 'ATEC', 'ATEN', 'ATER', 'ATEX', 'ATGE', 'ATH', 'ATHA', 'ATHE', 'ATHM', 'ATHN', 'ATHX', 'ATI', 'ATIF', 'ATIP', 'ATKR', 'ATLC', 'ATLO', 'ATMR', 'ATNF', 'ATNI', 'ATNM', 'ATNX', 'ATO', 'ATOM', 'ATOS', 'ATR', 'ATRA', 'ATRC', 'ATRI', 'ATRO', 'ATRS', 'ATSG', 'ATTO', 'ATUS', 'ATVC', 'ATVI', 'ATXI', 'ATXS', 'ATY', 'AU', 'AUB', 'AUBN', 'AUD', 'AUDC', 'AUID', 'AUMN', 'AUPH', 'AURC', 'AUS', 'AUTL', 'AUTO', 'AUUD', 'AUVI', 'AUY', 'AVA', 'AVAH', 'AVAL', 'AVAN', 'AVAV', 'AVB', 'AVCO', 'AVCT', 'AVD', 'AVDL', 'AVEO', 'AVGO', 'AVGR', 'AVID', 'AVIR', 'AVLR', 'AVNS', 'AVNT', 'AVNW', 'AVO', 'AVPT', 'AVRO', 'AVT', 'AVTE', 'AVTR', 'AVTX', 'AVXL', 'AVY', 'AVYA', 'AWH', 'AWI', 'AWK', 'AWR', 'AWRE', 'AWX', 'AX', 'AXDX', 'AXGN', 'AXL', 'AXLA', 'AXNX', 'AXON', 'AXP', 'AXR', 'AXS', 'AXSM', 'AXTA', 'AXTI', 'AXU', 'AY', 'AYI', 'AYLA', 'AYRO', 'AYTU', 'AYX', 'AZEK', 'AZN', 'AZO', 'AZPN', 'AZRE', 'AZRX', 'AZUL', 'AZYO', 'AZZ', 'B', 'BA', 'BABA', 'BAC', 'BAH', 'BAK', 'BALY', 'BAM', 'BANC', 'BAND', 'BANF', 'BANR', 'BANX', 'BAOS', 'BAP', 'BARK', 'BASE', 'BATL', 'BAX', 'BB', 'BBAR', 'BBBY', 'BBCP', 'BBD', 'BBDC', 'BBGI', 'BBI', 'BBIG', 'BBIO', 'BBL', 'BBQ', 'BBSI', 'BBU', 'BBVA', 'BBW', 'BBWI', 'BBY', 'BC', 'BCAB', 'BCAC', 'BCBP', 'BCC', 'BCDA', 'BCE', 'BCEI', 'BCEL', 'BCH', 'BCLI', 'BCML', 'BCO', 'BCOR', 'BCOV', 'BCOW', 'BCPC', 'BCRX', 'BCS', 'BCSF', 'BCTX', 'BCYC', 'BCYP', 'BDC', 'BDL', 'BDN', 'BDR', 'BDSI', 'BDSX', 'BDTX', 'BDX', 'BE', 'BEAM', 'BECN', 'BEDU', 'BEEM', 'BEKE', 'BELFA', 'BELFB', 'BEN', 'BENE', 'BEP', 'BEPC', 'BERY', 'BEST', 'BF.A', 'BF.B', 'BFAM', 'BFC', 'BFI', 'BFIN', 'BFLY', 'BFRA', 'BFS', 'BFST', 'BG', 'BGCP', 'BGFV', 'BGI', 'BGNE', 'BGRY', 'BGS', 'BGSF', 'BGSX', 'BH', 'BH.A', 'BHAT', 'BHB', 'BHC', 'BHE', 'BHF', 'BHG', 'BHLB', 'BHP', 'BHR', 'BHSE', 'BHTG', 'BHVN', 'BIDU', 'BIG', 'BIGC', 'BIIB', 'BILI', 'BILL', 'BIMI', 'BIO', 'BIOC', 'BIOL', 'BIOT', 'BIOX', 'BIP', 'BIPC', 'BITE', 'BITF', 'BIVI', 'BJ', 'BJRI', 'BK', 'BKCC', 'BKD', 'BKE', 'BKEP', 'BKH', 'BKI', 'BKNG', 'BKR', 'BKSC', 'BKSY', 'BKTI', 'BKU', 'BKYI', 'BL', 'BLBD', 'BLCM', 'BLCT', 'BLD', 'BLDE', 'BLDP', 'BLDR', 'BLFS', 'BLFY', 'BLI', 'BLIN', 'BLK', 'BLKB', 'BLL', 'BLMN', 'BLND', 'BLNK', 'BLPH', 'BLRX', 'BLSA', 'BLTS', 'BLU', 'BLUA', 'BLUE', 'BLX', 'BMA', 'BMBL', 'BMEA', 'BMI', 'BMO', 'BMRA', 'BMRC', 'BMRN', 'BMTC', 'BMTX', 'BMY', 'BNED', 'BNFT', 'BNGO', 'BNL', 'BNR', 'BNS', 'BNSO', 'BNTC', 'BNTX', 'BOAC', 'BOAS', 'BOCH', 'BODY', 'BOH', 'BOKF', 'BOLT', 'BOMN', 'BON', 'BOOM', 'BOOT', 'BORR', 'BOSC', 'BOTJ', 'BOWX', 'BOX', 'BOXL', 'BP', 'BPMC', 'BPMP', 'BPOP', 'BPRN', 'BPT', 'BPTH', 'BPTS', 'BQ', 'BR', 'BRAG', 'BRBR', 'BRBS', 'BRC', 'BRCN', 'BRDG', 'BREZ', 'BRFS', 'BRG', 'BRID', 'BRIV', 'BRK.A', 'BRK.B', 'BRKL', 'BRKR', 'BRKS', 'BRLI', 'BRMK', 'BRN', 'BRO', 'BROG', 'BRP', 'BRPM', 'BRQS', 'BRSP', 'BRT', 'BRX', 'BRY', 'BSAC', 'BSBK', 'BSBR', 'BSET', 'BSGA', 'BSGM', 'BSIG', 'BSKY', 'BSM', 'BSMX', 'BSN', 'BSQR', 'BSRR', 'BSVN', 'BSX', 'BSY', 'BTAI', 'BTAQ', 'BTB', 'BTBT', 'BTCM', 'BTCY', 'BTG', 'BTI', 'BTN', 'BTNB', 'BTRS', 'BTTR', 'BTU', 'BTWN', 'BTX', 'BUD', 'BUR', 'BURL', 'BUSE', 'BV', 'BVH', 'BVN', 'BVS', 'BVXV', 'BW', 'BWA', 'BWAC', 'BWAY', 'BWB', 'BWEN', 'BWFG', 'BWMN', 'BWMX', 'BWXT', 'BX', 'BXC', 'BXMT', 'BXP', 'BXRX', 'BXS', 'BY', 'BYD', 'BYFC', 'BYND', 'BYRN', 'BYSI', 'BYTS', 'BZ', 'BZH', 'BZUN', 'C', 'CAAP', 'CAAS', 'CABA', 'CABO', 'CAC', 'CACC', 'CACI', 'CADE', 'CADL', 'CAE', 'CAG', 'CAH', 'CAHC', 'CAI', 'CAJ', 'CAKE', 'CAL', 'CALA', 'CALB', 'CALM', 'CALT', 'CALX', 'CAMP', 'CAMT', 'CAN', 'CANF', 'CANG', 'CANO', 'CAPL', 'CAPR', 'CAR', 'CARA', 'CARE', 'CARG', 'CARR', 'CARS', 'CARV', 'CAS', 'CASA', 'CASH', 'CASI', 'CASS', 'CASY', 'CAT', 'CATC', 'CATO', 'CATY', 'CB', 'CBAH', 'CBAN', 'CBAT', 'CBAY', 'CBD', 'CBFV', 'CBIO', 'CBMB', 'CBNK', 'CBOE', 'CBRE', 'CBRL', 'CBSH', 'CBT', 'CBTX', 'CBU', 'CBZ', 'CC', 'CCAC', 'CCAP', 'CCB', 'CCBG', 'CCCC', 'CCCS', 'CCEL', 'CCEP', 'CCF', 'CCI', 'CCJ', 'CCK', 'CCL', 'CCLP', 'CCM', 'CCMP', 'CCNC', 'CCNE', 'CCO', 'CCOI', 'CCRN', 'CCS', 'CCU', 'CCV', 'CCVI', 'CCXI', 'CD', 'CDAK', 'CDAY', 'CDE', 'CDEV', 'CDK', 'CDLX', 'CDMO', 'CDNA', 'CDNS', 'CDOR', 'CDR', 'CDTX', 'CDW', 'CDXC', 'CDXS', 'CDZI', 'CE', 'CEA', 'CECE', 'CEI', 'CEIX', 'CELC', 'CELH', 'CELP', 'CELU', 'CEMI', 'CENT', 'CENTA', 'CENX', 'CEPU', 'CEQP', 'CERE', 'CERN', 'CERS', 'CERT', 'CET', 'CETX', 'CEVA', 'CF', 'CFB', 'CFBK', 'CFFE', 'CFFI', 'CFFN', 'CFG', 'CFIV', 'CFLT', 'CFMS', 'CFR', 'CFRX', 'CFV', 'CFVI', 'CFX', 'CG', 'CGA', 'CGAU', 'CGBD', 'CGC', 'CGEM', 'CGEN', 'CGNT', 'CGNX', 'CGRN', 'CHA', 'CHAA', 'CHCI', 'CHCO', 'CHCT', 'CHD', 'CHDN', 'CHE', 'CHEF', 'CHEK', 'CHGG', 'CHH', 'CHK', 'CHKP', 'CHL', 'CHMG', 'CHMI', 'CHNG', 'CHNR', 'CHPM', 'CHPT', 'CHRA', 'CHRS', 'CHRW', 'CHS', 'CHT', 'CHTR', 'CHU', 'CHUY', 'CHWY', 'CHX', 'CI', 'CIA', 'CIB', 'CIDM', 'CIEN', 'CIFR', 'CIG', 'CIGI', 'CIH', 'CIM', 'CINF', 'CINR', 'CIO', 'CIR', 'CIT', 'CIVB', 'CIX', 'CIXX', 'CIZN', 'CJJD', 'CKPT', 'CKX', 'CL', 'CLAA', 'CLAQ', 'CLAR', 'CLAS', 'CLAY', 'CLB', 'CLBK', 'CLBR', 'CLBS', 'CLBT', 'CLDB', 'CLDR', 'CLDT', 'CLDX', 'CLEU', 'CLF', 'CLFD', 'CLGN', 'CLH', 'CLI', 'CLIM', 'CLIR', 'CLLS', 'CLMT', 'CLNE', 'CLNN', 'CLOV', 'CLPR', 'CLPS', 'CLPT', 'CLR', 'CLRB', 'CLRM', 'CLRO', 'CLS', 'CLSD', 'CLSK', 'CLSN', 'CLVR', 'CLVS', 'CLVT', 'CLW', 'CLWT', 'CLX', 'CLXT', 'CM', 'CMA', 'CMAX', 'CMBM', 'CMC', 'CMCL', 'CMCM', 'CMCO', 'CMCSA', 'CMCT', 'CME', 'CMG', 'CMI', 'CMLS', 'CMLT', 'CMMB', 'CMO', 'CMP', 'CMPI', 'CMPR', 'CMPS', 'CMRE', 'CMRX', 'CMS', 'CMT', 'CMTL', 'CNA', 'CNBKA', 'CNC', 'CNCE', 'CND', 'CNDT', 'CNET', 'CNEY', 'CNF', 'CNFR', 'CNHI', 'CNI', 'CNK', 'CNM', 'CNMD', 'CNNB', 'CNNE', 'CNO', 'CNOB', 'CNP', 'CNQ', 'CNR', 'CNS', 'CNSL', 'CNSP', 'CNTA', 'CNTB', 'CNTG', 'CNTY', 'CNVY', 'CNX', 'CNXC', 'CNXN', 'CO', 'COCP', 'CODA', 'CODI', 'CODX', 'COE', 'COF', 'COFS', 'COG', 'COGT', 'COHN', 'COHR', 'COHU', 'COIN', 'COKE', 'COLB', 'COLD', 'COLI', 'COLL', 'COLM', 'COMM', 'COMP', 'COMS', 'CONE', 'CONN', 'CONX', 'COO', 'COOK', 'COOL', 'COOP', 'COP', 'COR', 'CORR', 'CORS', 'CORT', 'COST', 'COTY', 'COUP', 'COUR', 'COVA', 'COWN', 'CP', 'CPA', 'CPAC', 'CPAR', 'CPB', 'CPE', 'CPF', 'CPG', 'CPHC', 'CPHI', 'CPIX', 'CPK', 'CPLG', 'CPLP', 'CPNG', 'CPOP', 'CPRI', 'CPRT', 'CPRX', 'CPS', 'CPSH', 'CPSI', 'CPSR', 'CPSS', 'CPT', 'CPTK', 'CPUH', 'CQP', 'CR', 'CRAI', 'CRBP', 'CRBU', 'CRC', 'CRCT', 'CRD.A', 'CRD.B', 'CRDF', 'CRDL', 'CREE', 'CREG', 'CRESY', 'CREX', 'CRH', 'CRHC', 'CRI', 'CRIS', 'CRK', 'CRKN', 'CRL', 'CRM', 'CRMD', 'CRMT', 'CRNC', 'CRNT', 'CRNX', 'CRON', 'CROX', 'CRS', 'CRSP', 'CRSR', 'CRT', 'CRTD', 'CRTO', 'CRTX', 'CRU', 'CRUS', 'CRVL', 'CRVS', 'CRWD', 'CRWS', 'CRXT', 'CRY', 'CRZN', 'CS', 'CSBR', 'CSCO', 'CSCW', 'CSGP', 'CSGS', 'CSII', 'CSIQ', 'CSL', 'CSLT', 'CSOD', 'CSPI', 'CSPR', 'CSR', 'CSSE', 'CSTA', 'CSTE', 'CSTL', 'CSTM', 'CSTR', 'CSU', 'CSV', 'CSWC', 'CSWI', 'CSX', 'CTAC', 'CTAQ', 'CTAS', 'CTBI', 'CTEK', 'CTG', 'CTHR', 'CTIB', 'CTIC', 'CTK', 'CTKB', 'CTLP', 'CTLT', 'CTMX', 'CTO', 'CTOS', 'CTRE', 'CTRM', 'CTRN', 'CTS', 'CTSH', 'CTSO', 'CTT', 'CTVA', 'CTXR', 'CTXS', 'CUBE', 'CUBI', 'CUE', 'CUEN', 'CUK', 'CULL', 'CULP', 'CURI', 'CURO', 'CURV', 'CUTR', 'CUZ', 'CVA', 'CVAC', 'CVBF', 'CVCO', 'CVCY', 'CVE', 'CVEO', 'CVET', 'CVGI', 'CVGW', 'CVI', 'CVII', 'CVLG', 'CVLT', 'CVLY', 'CVM', 'CVNA', 'CVR', 'CVRX', 'CVS', 'CVU', 'CVV', 'CVX', 'CW', 'CWBC', 'CWBR', 'CWCO', 'CWEN', 'CWEN.A', 'CWH', 'CWK', 'CWST', 'CWT', 'CX', 'CXDC', 'CXDO', 'CXM', 'CXP', 'CXW', 'CYAD', 'CYAN', 'CYBE', 'CYBN', 'CYBR', 'CYCC', 'CYCN', 'CYD', 'CYH', 'CYRN', 'CYRX', 'CYT', 'CYTH', 'CYTK', 'CYTO', 'CYXT', 'CZNC', 'CZOO', 'CZR', 'CZWI', 'D', 'DAC', 'DADA', 'DAIO', 'DAKT', 'DAL', 'DALN', 'DALS', 'DAN', 'DAO', 'DAR', 'DARE', 'DASH', 'DATS', 'DAVA', 'DAWN', 'DB', 'DBD', 'DBDR', 'DBGI', 'DBI', 'DBRG', 'DBTX', 'DBVT', 'DBX', 'DCBO', 'DCI', 'DCO', 'DCOM', 'DCP', 'DCPH', 'DCRC', 'DCRN', 'DCT', 'DCTH', 'DD', 'DDD', 'DDI', 'DDL', 'DDMX', 'DDOG', 'DDS', 'DE', 'DEA', 'DECK', 'DEH', 'DEI', 'DELL', 'DEN', 'DENN', 'DEO', 'DESP', 'DFFN', 'DFH', 'DFIN', 'DFPH', 'DFS', 'DG', 'DGICA', 'DGICB', 'DGII', 'DGLY', 'DGNS', 'DGNU', 'DGX', 'DHBC', 'DHC', 'DHCA', 'DHHC', 'DHI', 'DHIL', 'DHR', 'DHT', 'DHX', 'DIBS', 'DIDI', 'DILA', 'DIN', 'DIOD', 'DIS', 'DISA', 'DISCA', 'DISCB', 'DISCK', 'DISH', 'DIT', 'DJCO', 'DK', 'DKDCA', 'DKL', 'DKNG', 'DKS', 'DLA', 'DLB', 'DLCA', 'DLHC', 'DLNG', 'DLO', 'DLPN', 'DLR', 'DLTH', 'DLTR', 'DLX', 'DM', 'DMAC', 'DMLP', 'DMRC', 'DMS', 'DMTK', 'DMYI', 'DMYQ', 'DNAA', 'DNAB', 'DNAC', 'DNAD', 'DNAY', 'DNB', 'DNLI', 'DNMR', 'DNN', 'DNOW', 'DNUT', 'DNZ', 'DOC', 'DOCN', 'DOCS', 'DOCU', 'DOGZ', 'DOLE', 'DOMA', 'DOMO', 'DOOO', 'DOOR', 'DORM', 'DOV', 'DOW', 'DOX', 'DOYU', 'DPRO', 'DPW', 'DPZ', 'DQ', 'DRAY', 'DRD', 'DRE', 'DRH', 'DRI', 'DRIO', 'DRMA', 'DRNA', 'DRQ', 'DRRX', 'DRTT', 'DRVN', 'DS', 'DSAC', 'DSEY', 'DSGN', 'DSGX', 'DSKE', 'DSP', 'DSPG', 'DSS', 'DSWL', 'DSX', 'DT', 'DTE', 'DTEA', 'DTIL', 'DTM', 'DTOC', 'DTSS', 'DTST', 'DUK', 'DUNE', 'DUO', 'DUOL', 'DUOT', 'DV', 'DVA', 'DVAX', 'DVD', 'DVN', 'DWIN', 'DWSN', 'DX', 'DXC', 'DXCM', 'DXF', 'DXPE', 'DXR', 'DXYN', 'DY', 'DYAI', 'DYN', 'DYNS', 'DYNT', 'DZSI', 'E', 'EA', 'EAC', 'EAF', 'EAR', 'EARN', 'EAST', 'EAT', 'EB', 'EBAC', 'EBAY', 'EBC', 'EBET', 'EBF', 'EBIX', 'EBMT', 'EBON', 'EBR', 'EBS', 'EBSB', 'EBTC', 'EC', 'ECC', 'ECHO', 'ECL', 'ECOL', 'ECOM', 'ECOR', 'ECPG', 'ECVT', 'ED', 'EDAP', 'EDIT', 'EDN', 'EDR', 'EDRY', 'EDSA', 'EDTK', 'EDTX', 'EDU', 'EDUC', 'EEFT', 'EEIQ', 'EEX', 'EFC', 'EFOI', 'EFSC', 'EFTR', 'EFX', 'EGAN', 'EGBN', 'EGGF', 'EGHT', 'EGLE', 'EGLX', 'EGO', 'EGP', 'EGRX', 'EGY', 'EH', 'EHC', 'EHTH', 'EIC', 'EIG', 'EIGR', 'EIX', 'EJFA', 'EJH', 'EKSO', 'EL', 'ELA', 'ELAN', 'ELDN', 'ELEV', 'ELF', 'ELLO', 'ELMD', 'ELMS', 'ELOX', 'ELP', 'ELS', 'ELSE', 'ELTK', 'ELVT', 'ELY', 'ELYM', 'ELYS', 'EM', 'EMAN', 'EMCF', 'EME', 'EMKR', 'EML', 'EMN', 'EMR', 'EMX', 'ENB', 'ENBL', 'ENDP', 'ENFA', 'ENG', 'ENIA', 'ENIC', 'ENLC', 'ENLV', 'ENNV', 'ENOB', 'ENPC', 'ENPH', 'ENR', 'ENS', 'ENSC', 'ENSG', 'ENSV', 'ENTA', 'ENTG', 'ENTX', 'ENV', 'ENVA', 'ENVB', 'ENVI', 'ENVX', 'ENZ', 'EOCW', 'EOG', 'EOLS', 'EOSE', 'EPAC', 'EPAM', 'EPAY', 'EPC', 'EPD', 'EPHY', 'EPIX', 'EPM', 'EPR', 'EPRT', 'EPSN', 'EPWR', 'EPZM', 'EQ', 'EQBK', 'EQC', 'EQD', 'EQH', 'EQHA', 'EQIX', 'EQNR', 'EQOS', 'EQR', 'EQS', 'EQT', 'EQX', 'ERAS', 'ERES', 'ERF', 'ERIC', 'ERIE', 'ERII', 'ERJ', 'ERO', 'ERYP', 'ES', 'ESBA', 'ESBK', 'ESCA', 'ESE', 'ESEA', 'ESGC', 'ESGR', 'ESI', 'ESLT', 'ESM', 'ESNT', 'ESP', 'ESPR', 'ESQ', 'ESRT', 'ESS', 'ESSA', 'ESSC', 'ESTA', 'ESTC', 'ESTE', 'ESXB', 'ET', 'ETAC', 'ETD', 'ETN', 'ETNB', 'ETON', 'ETR', 'ETRN', 'ETSY', 'ETTX', 'ETWO', 'EUCR', 'EURN', 'EUSG', 'EVA', 'EVAX', 'EVBG', 'EVBN', 'EVC', 'EVCM', 'EVER', 'EVFM', 'EVGN', 'EVGO', 'EVH', 'EVI', 'EVK', 'EVLO', 'EVLV', 'EVOJ', 'EVOK', 'EVOL', 'EVOP', 'EVR', 'EVRG', 'EVRI', 'EVTC', 'EW', 'EWBC', 'EWCZ', 'EWTX', 'EXAS', 'EXC', 'EXEL', 'EXK', 'EXLS', 'EXN', 'EXP', 'EXPD', 'EXPE', 'EXPI', 'EXPO', 'EXPR', 'EXR', 'EXTN', 'EXTR', 'EYE', 'EYEG', 'EYEN', 'EYES', 'EYPT', 'EZGO', 'EZPW', 'F', 'FA', 'FACA', 'FACT', 'FAF', 'FAMI', 'FANG', 'FANH', 'FARM', 'FARO', 'FAST', 'FAT', 'FATBB', 'FATE', 'FB', 'FBC', 'FBHS', 'FBIO', 'FBIZ', 'FBK', 'FBMS', 'FBNC', 'FBP', 'FBRX', 'FC', 'FCAP', 'FCAX', 'FCBC', 'FCCO', 'FCCY', 'FCEL', 'FCF', 'FCFS', 'FCN', 'FCNCA', 'FCPT', 'FCRD', 'FCUV', 'FCX', 'FDBC', 'FDMT', 'FDP', 'FDS', 'FDUS', 'FDX', 'FE', 'FEDU', 'FEIM', 'FELE', 'FEMY', 'FENC', 'FENG', 'FERG', 'FET', 'FEYE', 'FF', 'FFBC', 'FFBW', 'FFHL', 'FFIC', 'FFIE', 'FFIN', 'FFIV', 'FFNW', 'FFWM', 'FGBI', 'FGEN', 'FGF', 'FHB', 'FHI', 'FHN', 'FHS', 'FHTX', 'FI', 'FIBK', 'FICO', 'FICV', 'FIGS', 'FINM', 'FINV', 'FIS', 'FISI', 'FISV', 'FITB', 'FIVE', 'FIVN', 'FIX', 'FIXX', 'FIZZ', 'FKWL', 'FL', 'FLAC', 'FLDM', 'FLEX', 'FLGC', 'FLGT', 'FLIC', 'FLL', 'FLME', 'FLMN', 'FLNG', 'FLNT', 'FLO', 'FLOW', 'FLR', 'FLS', 'FLT', 'FLUX', 'FLWS', 'FLXN', 'FLXS', 'FLYW', 'FMAC', 'FMAO', 'FMBH', 'FMBI', 'FMC', 'FMIV', 'FMNB', 'FMS', 'FMTX', 'FMX', 'FN', 'FNB', 'FNCB', 'FNCH', 'FND', 'FNF', 'FNHC', 'FNKO', 'FNLC', 'FNV', 'FNWB', 'FOA', 'FOCS', 'FOE', 'FOLD', 'FONR', 'FOR', 'FORA', 'FORD', 'FORE', 'FORM', 'FORR', 'FORTY', 'FOSL', 'FOUR', 'FOX', 'FOXA', 'FOXF', 'FOXW', 'FPAC', 'FPAY', 'FPH', 'FPI', 'FR', 'FRAF', 'FRBA', 'FRBK', 'FRC', 'FRD', 'FREE', 'FREQ', 'FREY', 'FRG', 'FRGI', 'FRHC', 'FRLN', 'FRME', 'FRO', 'FROG', 'FRON', 'FRPH', 'FRPT', 'FRSG', 'FRST', 'FRSX', 'FRT', 'FRTA', 'FRW', 'FRXB', 'FSBC', 'FSBW', 'FSEA', 'FSFG', 'FSI', 'FSII', 'FSK', 'FSLR', 'FSLY', 'FSM', 'FSNB', 'FSP', 'FSR', 'FSRX', 'FSS', 'FSSI', 'FST', 'FSTR', 'FSTX', 'FSV', 'FTAA', 'FTAI', 'FTCH', 'FTCI', 'FTCV', 'FTDR', 'FTEK', 'FTEV', 'FTFT', 'FTHM', 'FTI', 'FTK', 'FTNT', 'FTPA', 'FTRP', 'FTS', 'FTSI', 'FTV', 'FTVI', 'FUBO', 'FUL', 'FULC', 'FULT', 'FUN', 'FUNC', 'FURY', 'FUSB', 'FUSE', 'FUSN', 'FUTU', 'FUV', 'FVAM', 'FVCB', 'FVE', 'FVIV', 'FVRR', 'FVT', 'FWAC', 'FWONA', 'FWP', 'FWRD', 'FXLV', 'FXNC', 'FYBR', 'FZT', 'G', 'GABC', 'GACQ', 'GAIA', 'GAIN', 'GALT', 'GAMB', 'GAMC', 'GAME', 'GAN', 'GANX', 'GAPA', 'GASS', 'GATO', 'GATX', 'GAU', 'GB', 'GBCI', 'GBDC', 'GBIO', 'GBL', 'GBLI', 'GBNH', 'GBNY', 'GBOX', 'GBR', 'GBRG', 'GBS', 'GBT', 'GBX', 'GCAC', 'GCBC', 'GCI', 'GCMG', 'GCO', 'GCP', 'GD', 'GDDY', 'GDEN', 'GDEV', 'GDOT', 'GDP', 'GDRX', 'GDS', 'GDYN', 'GE', 'GECC', 'GEF', 'GEF.B', 'GEG', 'GEL', 'GENC', 'GENE', 'GENI', 'GEO', 'GEOS', 'GERN', 'GES', 'GEVO', 'GFED', 'GFF', 'GFI', 'GFL', 'GFOR', 'GFX', 'GGAL', 'GGB', 'GGG', 'GGGV', 'GGMC', 'GGPI', 'GH', 'GHAC', 'GHC', 'GHG', 'GHL', 'GHLD', 'GHM', 'GHRS', 'GHSI', 'GIB', 'GIC', 'GIFI', 'GIG', 'GIGM', 'GIII', 'GIIX', 'GIL', 'GILD', 'GILT', 'GIS', 'GIW', 'GKOS', 'GL', 'GLAD', 'GLAQ', 'GLBE', 'GLBL', 'GLBS', 'GLBZ', 'GLDD', 'GLDG', 'GLEO', 'GLG', 'GLHA', 'GLMD', 'GLNG', 'GLOB', 'GLOP', 'GLP', 'GLPG', 'GLPI', 'GLRE', 'GLSI', 'GLSPT', 'GLT', 'GLTA', 'GLTO', 'GLUE', 'GLW', 'GLYC', 'GM', 'GMAB', 'GMBL', 'GMBT', 'GMDA', 'GME', 'GMED', 'GMII', 'GMRE', 'GMS', 'GMTX', 'GMVD', 'GNAC', 'GNCA', 'GNE', 'GNFT', 'GNK', 'GNL', 'GNLN', 'GNOG', 'GNPX', 'GNRC', 'GNSS', 'GNTX', 'GNTY', 'GNUS', 'GNW', 'GO', 'GOAC', 'GOBI', 'GOCO', 'GOED', 'GOEV', 'GOGL', 'GOGO', 'GOL', 'GOLD', 'GOLF', 'GOOD', 'GOOG', 'GOOGL', 'GOOS', 'GORO', 'GOSS', 'GOTU', 'GOVX', 'GP', 'GPAC', 'GPC', 'GPCO', 'GPI', 'GPK', 'GPL', 'GPMT', 'GPN', 'GPOR', 'GPP', 'GPRE', 'GPRK', 'GPRO', 'GPS', 'GPX', 'GRA', 'GRAY', 'GRBK', 'GRC', 'GRCL', 'GRCY', 'GRFS', 'GRIL', 'GRIN', 'GRMN', 'GRNQ', 'GROM', 'GROW', 'GROY', 'GRPH', 'GRPN', 'GRTS', 'GRTX', 'GRUB', 'GRVI', 'GRVY', 'GRWG', 'GS', 'GSAH', 'GSAQ', 'GSAT', 'GSBC', 'GSBD', 'GSEV', 'GSHD', 'GSIT', 'GSK', 'GSKY', 'GSL', 'GSM', 'GSMG', 'GSQB', 'GSQD', 'GSS', 'GSV', 'GT', 'GTBP', 'GTE', 'GTEC', 'GTES', 'GTH', 'GTHX', 'GTIM', 'GTLS', 'GTN', 'GTN.A', 'GTPA', 'GTPB', 'GTS', 'GTX', 'GTY', 'GTYH', 'GURE', 'GVA', 'GVP', 'GWB', 'GWGH', 'GWII', 'GWRE', 'GWRS', 'GWW', 'GXII', 'GXO', 'GYRO', 'H', 'HA', 'HAAC', 'HAE', 'HAFC', 'HAIN', 'HAL', 'HALL', 'HALO', 'HAPP', 'HARP', 'HAS', 'HASI', 'HAYN', 'HAYW', 'HBAN', 'HBB', 'HBCP', 'HBI', 'HBIO', 'HBM', 'HBMD', 'HBNC', 'HBP', 'HBT', 'HCA', 'HCAQ', 'HCAR', 'HCAT', 'HCC', 'HCCC', 'HCCI', 'HCDI', 'HCHC', 'HCI', 'HCIC', 'HCII', 'HCKT', 'HCM', 'HCNE', 'HCSG', 'HCWB', 'HD', 'HDB', 'HDSN', 'HE', 'HEAR', 'HEES', 'HEI', 'HEI.A', 'HELE', 'HEP', 'HEPA', 'HEPS', 'HERA', 'HES', 'HESM', 'HEXO', 'HFBL', 'HFC', 'HFFG', 'HFWA', 'HGBL', 'HGEN', 'HGSH', 'HGV', 'HHC', 'HHLA', 'HHR', 'HI', 'HIBB', 'HIFS', 'HIG', 'HIGA', 'HIHO', 'HII', 'HIII', 'HIL', 'HIMS', 'HIMX', 'HIPO', 'HITI', 'HIW', 'HJLI', 'HKIB', 'HL', 'HLAH', 'HLBZ', 'HLF', 'HLG', 'HLI', 'HLIO', 'HLIT', 'HLLY', 'HLMN', 'HLNE', 'HLT', 'HLX', 'HLXA', 'HMC', 'HMCO', 'HMG', 'HMHC', 'HMLP', 'HMN', 'HMNF', 'HMPT', 'HMST', 'HMTV', 'HMY', 'HNGR', 'HNI', 'HNNA', 'HNP', 'HNRG', 'HNST', 'HOFT', 'HOFV', 'HOG', 'HOLI', 'HOLX', 'HOMB', 'HON', 'HONE', 'HOOD', 'HOOK', 'HOPE', 'HOTH', 'HOV', 'HOWL', 'HP', 'HPE', 'HPK', 'HPP', 'HPQ', 'HPX', 'HQI', 'HQY', 'HR', 'HRB', 'HRC', 'HRI', 'HRL', 'HRMY', 'HROW', 'HRTG', 'HRTX', 'HRZN', 'HSAQ', 'HSBC', 'HSC', 'HSDT', 'HSIC', 'HSII', 'HSKA', 'HSON', 'HST', 'HSTM', 'HSTO', 'HSY', 'HT', 'HTA', 'HTBI', 'HTBK', 'HTBX', 'HTGC', 'HTGM', 'HTH', 'HTHT', 'HTLD', 'HTLF', 'HTOO', 'HTPA', 'HUBB', 'HUBG', 'HUBS', 'HUDI', 'HUGE', 'HUGS', 'HUIZ', 'HUM', 'HUMA', 'HUN', 'HURC', 'HURN', 'HUSA', 'HUSN', 'HUT', 'HUYA', 'HVBC', 'HVBT', 'HVT', 'HWBK', 'HWC', 'HWKN', 'HWM', 'HX', 'HXL', 'HY', 'HYAC', 'HYFM', 'HYLN', 'HYMC', 'HYRE', 'HYW', 'HYZN', 'HZAC', 'HZN', 'HZNP', 'HZO', 'HZON', 'IAA', 'IAC', 'IACB', 'IACC', 'IAG', 'IART', 'IAS', 'IBA', 'IBCP', 'IBER', 'IBEX', 'IBIO', 'IBKR', 'IBM', 'IBN', 'IBOC', 'IBP', 'IBRX', 'IBTX', 'ICAD', 'ICBK', 'ICCC', 'ICCH', 'ICCM', 'ICD', 'ICE', 'ICFI', 'ICHR', 'ICL', 'ICLK', 'ICLR', 'ICMB', 'ICPT', 'ICUI', 'ICVX', 'ID', 'IDA', 'IDBA', 'IDCC', 'IDEX', 'IDN', 'IDRA', 'IDT', 'IDW', 'IDXX', 'IDYA', 'IEA', 'IEC', 'IEP', 'IESC', 'IEX', 'IFBD', 'IFF', 'IFMK', 'IFRX', 'IFS', 'IGAC', 'IGC', 'IGIC', 'IGMS', 'IGNY', 'IGT', 'IH', 'IHC', 'IHG', 'IHRT', 'IHT', 'IIAC', 'III', 'IIII', 'IIIN', 'IIIV', 'IIN', 'IINN', 'IIPR', 'IIVI', 'IKNA', 'IKNX', 'IKT', 'ILMN', 'ILPT', 'IMAB', 'IMAC', 'IMAX', 'IMBI', 'IMCC', 'IMCR', 'IMGN', 'IMGO', 'IMH', 'IMKTA', 'IMMP', 'IMMR', 'IMNM', 'IMO', 'IMOS', 'IMPL', 'IMPX', 'IMRA', 'IMRN', 'IMRX', 'IMTE', 'IMTX', 'IMUX', 'IMV', 'IMVT', 'IMXI', 'INAB', 'INBK', 'INBX', 'INCR', 'INCY', 'INDB', 'INDI', 'INDO', 'INDP', 'INDT', 'INFI', 'INFN', 'INFO', 'INFU', 'INFY', 'ING', 'INGN', 'INGR', 'INKA', 'INM', 'INMB', 'INMD', 'INN', 'INNV', 'INO', 'INOD', 'INOV', 'INPX', 'INS', 'INSE', 'INSG', 'INSM', 'INSP', 'INST', 'INSW', 'INT', 'INTA', 'INTC', 'INTG', 'INTT', 'INTU', 'INTZ', 'INUV', 'INVA', 'INVE', 'INVH', 'INVO', 'INVZ', 'INZY', 'IO', 'IONS', 'IOR', 'IOSP', 'IOVA', 'IP', 'IPA', 'IPAR', 'IPDN', 'IPG', 'IPGP', 'IPHA', 'IPI', 'IPOD', 'IPOF', 'IPSC', 'IPVA', 'IPVF', 'IPVI', 'IPW', 'IPWR', 'IQ', 'IQV', 'IR', 'IRBT', 'IRCP', 'IRDM', 'IRIX', 'IRM', 'IRMD', 'IRNT', 'IROQ', 'IRS', 'IRT', 'IRTC', 'IRWD', 'IS', 'ISAA', 'ISBC', 'ISDR', 'ISEE', 'ISIG', 'ISLE', 'ISOS', 'ISPC', 'ISR', 'ISRG', 'ISSC', 'ISTR', 'ISUN', 'IT', 'ITAC', 'ITCB', 'ITCI', 'ITGR', 'ITHX', 'ITI', 'ITIC', 'ITMR', 'ITOS', 'ITP', 'ITQ', 'ITRG', 'ITRI', 'ITRM', 'ITRN', 'ITT', 'ITUB', 'ITW', 'IVA', 'IVAC', 'IVAN', 'IVC', 'IVR', 'IVZ', 'IX', 'IZEA', 'J', 'JACK', 'JAGX', 'JAKK', 'JAMF', 'JAN', 'JANX', 'JAX', 'JAZZ', 'JBGS', 'JBHT', 'JBI', 'JBL', 'JBLU', 'JBSS', 'JBT', 'JCI', 'JCIC', 'JCOM', 'JCS', 'JCTCF', 'JD', 'JEF', 'JELD', 'JFIN', 'JFU', 'JG', 'JHG', 'JHX', 'JILL', 'JJSF', 'JKHY', 'JKS', 'JLL', 'JMIA', 'JMP', 'JNCE', 'JNJ', 'JNPR', 'JOAN', 'JOB', 'JOBS', 'JOBY', 'JOE', 'JOFF', 'JOUT', 'JP', 'JPM', 'JRJC', 'JRSH', 'JRVR', 'JT', 'JUGG', 'JUPW', 'JVA', 'JW.A', 'JW.B', 'JWEL', 'JWN', 'JWSM', 'JYAC', 'JYNT', 'JZXN', 'K', 'KAHC', 'KAI', 'KAII', 'KAIR', 'KALA', 'KALU', 'KALV', 'KAMN', 'KAR', 'KARO', 'KAVL', 'KB', 'KBAL', 'KBH', 'KBNT', 'KBR', 'KBSF', 'KC', 'KCAC', 'KDMN', 'KDNY', 'KDP', 'KE', 'KELYA', 'KELYB', 'KEN', 'KEP', 'KEQU', 'KERN', 'KEX', 'KEY', 'KEYS', 'KFFB', 'KFRC', 'KFS', 'KFY', 'KGC', 'KHC', 'KIDS', 'KIII', 'KIM', 'KINS', 'KINZ', 'KIQ', 'KIRK', 'KKR', 'KL', 'KLAC', 'KLAQ', 'KLDO', 'KLIC', 'KLR', 'KLTR', 'KLXE', 'KMB', 'KMDA', 'KMI', 'KMPH', 'KMPR', 'KMT', 'KMX', 'KN', 'KNBE', 'KNDI', 'KNOP', 'KNSA', 'KNSL', 'KNTE', 'KNX', 'KO', 'KOD', 'KODK', 'KOF', 'KOP', 'KOPN', 'KOR', 'KOS', 'KOSS', 'KPLT', 'KPTI', 'KR', 'KRA', 'KRBP', 'KRC', 'KREF', 'KRG', 'KRKR', 'KRMD', 'KRNL', 'KRNT', 'KRNY', 'KRO', 'KRON', 'KROS', 'KRP', 'KRT', 'KRTX', 'KRUS', 'KRYS', 'KSI', 'KSPN', 'KSS', 'KSU', 'KT', 'KTB', 'KTCC', 'KTOS', 'KTRA', 'KUKE', 'KULR', 'KURA', 'KURI', 'KVHI', 'KVSA', 'KVSB', 'KVSC', 'KW', 'KWAC', 'KWR', 'KXIN', 'KYMR', 'KZIA', 'KZR', 'L', 'LAAA', 'LABP', 'LAC', 'LAD', 'LADR', 'LAIX', 'LAKE', 'LAMR', 'LANC', 'LAND', 'LARK', 'LASR', 'LATN', 'LAUR', 'LAW', 'LAWS', 'LAZ', 'LAZR', 'LAZY', 'LBAI', 'LBC', 'LBPH', 'LBPS', 'LBRDA', 'LBRDK', 'LBRT', 'LBTYA', 'LBTYB', 'LBTYK', 'LC', 'LCA', 'LCAA', 'LCAP', 'LCI', 'LCID', 'LCII', 'LCNB', 'LCTX', 'LCUT', 'LDHA', 'LDI', 'LDL', 'LDOS', 'LE', 'LEA', 'LEAP', 'LECO', 'LEDS', 'LEE', 'LEG', 'LEGA', 'LEGH', 'LEGN', 'LEGO', 'LEJU', 'LEN', 'LEN.B', 'LESL', 'LEU', 'LEV', 'LEVI', 'LEVL', 'LEXX', 'LFC', 'LFMD', 'LFST', 'LFT', 'LFTR', 'LFUS', 'LFVN', 'LGAC', 'LGF.A', 'LGF.B', 'LGHL', 'LGIH', 'LGL', 'LGND', 'LGO', 'LGV', 'LGVN', 'LH', 'LHAA', 'LHC', 'LHCG', 'LHDX', 'LHX', 'LI', 'LICY', 'LIDR', 'LIFE', 'LII', 'LIII', 'LILA', 'LILAK', 'LIN', 'LINC', 'LIND', 'LIQT', 'LITB', 'LITE', 'LITT', 'LIVE', 'LIVN', 'LIVX', 'LIXT', 'LIZI', 'LJAQ', 'LJPC', 'LKCO', 'LKFN', 'LKQ', 'LL', 'LLNW', 'LLY', 'LMACA', 'LMAO', 'LMAT', 'LMB', 'LMFA', 'LMND', 'LMNL', 'LMNR', 'LMPX', 'LMRK', 'LMST', 'LMT', 'LNC', 'LND', 'LNDC', 'LNFA', 'LNG', 'LNN', 'LNSR', 'LNT', 'LNTH', 'LOAN', 'LOB', 'LOCO', 'LODE', 'LOGC', 'LOGI', 'LOKB', 'LOKM', 'LOMA', 'LOOP', 'LOPE', 'LORL', 'LOTZ', 'LOV', 'LOVE', 'LOW', 'LPCN', 'LPG', 'LPI', 'LPL', 'LPLA', 'LPRO', 'LPSN', 'LPTH', 'LPTX', 'LPX', 'LQDA', 'LQDT', 'LRCX', 'LRFC', 'LRMR', 'LRN', 'LSAQ', 'LSBK', 'LSCC', 'LSEA', 'LSF', 'LSI', 'LSPD', 'LSTR', 'LTBR', 'LTC', 'LTCH', 'LTHM', 'LTRN', 'LTRPA', 'LTRPB', 'LTRX', 'LU', 'LUB', 'LULU', 'LUMN', 'LUMO', 'LUNA', 'LUNG', 'LUV', 'LUXA', 'LVOX', 'LVRA', 'LVS', 'LVTX', 'LW', 'LWAY', 'LWLG', 'LX', 'LXEH', 'LXFR', 'LXP', 'LXRX', 'LXU', 'LYB', 'LYEL', 'LYFT', 'LYG', 'LYL', 'LYRA', 'LYTS', 'LYV', 'LZ', 'LZB', 'M', 'MA', 'MAA', 'MAAC', 'MAC', 'MACA', 'MACC', 'MACK', 'MACQ', 'MACU', 'MAG', 'MAGS', 'MAIN', 'MAN', 'MANH', 'MANT', 'MANU', 'MAPS', 'MAQC', 'MAR', 'MARA', 'MARK', 'MARPS', 'MAS', 'MASI', 'MASS', 'MAT', 'MATW', 'MATX', 'MAX', 'MAXN', 'MAXR', 'MAYS', 'MBAC', 'MBCN', 'MBI', 'MBII', 'MBIN', 'MBIO', 'MBOT', 'MBRX', 'MBT', 'MBTC', 'MBUU', 'MBWM', 'MC', 'MCAD', 'MCAE', 'MCAF', 'MCB', 'MCBC', 'MCBS', 'MCD', 'MCF', 'MCFE', 'MCFT', 'MCG', 'MCHP', 'MCHX', 'MCK', 'MCMJ', 'MCO', 'MCRB', 'MCRI', 'MCS', 'MCW', 'MCY', 'MD', 'MDB', 'MDC', 'MDGL', 'MDGS', 'MDH', 'MDIA', 'MDJH', 'MDLA', 'MDLZ', 'MDNA', 'MDP', 'MDRR', 'MDRX', 'MDT', 'MDU', 'MDVL', 'MDWD', 'MDWT', 'MDXG', 'ME', 'MEC', 'MED', 'MEDP', 'MEDS', 'MEG', 'MEI', 'MEIP', 'MELI', 'MEOH', 'MERC', 'MESA', 'MESO', 'MET', 'METC', 'METX', 'MF', 'MFA', 'MFC', 'MFG', 'MFGP', 'MFH', 'MFIN', 'MG', 'MGA', 'MGEE', 'MGI', 'MGIC', 'MGLN', 'MGM', 'MGNI', 'MGNX', 'MGP', 'MGPI', 'MGRC', 'MGTA', 'MGTX', 'MGY', 'MGYR', 'MHH', 'MHK', 'MHLD', 'MHO', 'MIC', 'MICT', 'MIDD', 'MILE', 'MIME', 'MIMO', 'MIND', 'MINM', 'MIRM', 'MIRO', 'MIST', 'MIT', 'MITA', 'MITC', 'MITK', 'MITO', 'MITQ', 'MITT', 'MIXT', 'MKC', 'MKC.V', 'MKD', 'MKFG', 'MKL', 'MKSI', 'MKTW', 'MKTX', 'MKTY', 'MLAB', 'MLAC', 'MLCO', 'MLHR', 'MLI', 'MLM', 'MLNK', 'MLP', 'MLR', 'MLSS', 'MLVF', 'MMAT', 'MMC', 'MMI', 'MMLP', 'MMM', 'MMMB', 'MMP', 'MMS', 'MMSI', 'MMX', 'MMYT', 'MN', 'MNDO', 'MNDY', 'MNKD', 'MNMD', 'MNOV', 'MNPR', 'MNR', 'MNRL', 'MNRO', 'MNSB', 'MNSO', 'MNST', 'MNTK', 'MNTS', 'MNTV', 'MNTX', 'MO', 'MOD', 'MODN', 'MODV', 'MOFG', 'MOG.A', 'MOG.B', 'MOGO', 'MOGU', 'MOH', 'MOHO', 'MOLN', 'MOMO', 'MON', 'MOR', 'MORF', 'MORN', 'MOS', 'MOSY', 'MOTN', 'MOTS', 'MOTV', 'MOV', 'MOVE', 'MOXC', 'MP', 'MPAA', 'MPAC', 'MPB', 'MPC', 'MPLN', 'MPLX', 'MPW', 'MPWR', 'MPX', 'MQ', 'MRAC', 'MRAM', 'MRBK', 'MRC', 'MRCC', 'MRCY', 'MREO', 'MRIN', 'MRK', 'MRKR', 'MRLN', 'MRM', 'MRNA', 'MRNS', 'MRO', 'MRSN', 'MRTN', 'MRTX', 'MRUS', 'MRVI', 'MRVL', 'MS', 'MSA', 'MSAC', 'MSB', 'MSBI', 'MSC', 'MSCI', 'MSDA', 'MSEX', 'MSFT', 'MSGE', 'MSGM', 'MSGS', 'MSI', 'MSM', 'MSN', 'MSON', 'MSP', 'MSTR', 'MSVB', 'MT', 'MTA', 'MTAC', 'MTB', 'MTBC', 'MTC', 'MTCH', 'MTCR', 'MTD', 'MTDR', 'MTEM', 'MTEX', 'MTG', 'MTH', 'MTL', 'MTLS', 'MTN', 'MTNB', 'MTOR', 'MTP', 'MTR', 'MTRN', 'MTRX', 'MTSI', 'MTTR', 'MTW', 'MTX', 'MTZ', 'MU', 'MUDS', 'MUFG', 'MUR', 'MUSA', 'MUX', 'MVBF', 'MVIS', 'MVST', 'MWA', 'MX', 'MXC', 'MXCT', 'MXL', 'MYE', 'MYFW', 'MYGN', 'MYMD', 'MYO', 'MYOV', 'MYPS', 'MYRG', 'MYSZ', 'MYTE', 'NAAC', 'NABL', 'NAII', 'NAK', 'NAKD', 'NAOV', 'NAPA', 'NARI', 'NAT', 'NATH', 'NATI', 'NATR', 'NAUT', 'NAVB', 'NAVI', 'NBEV', 'NBHC', 'NBIX', 'NBN', 'NBR', 'NBRV', 'NBSE', 'NBST', 'NBTB', 'NBTX', 'NBY', 'NC', 'NCBS', 'NCLH', 'NCMI', 'NCNA', 'NCNO', 'NCR', 'NCSM', 'NCTY', 'NDAC', 'NDAQ', 'NDLS', 'NDRA', 'NDSN', 'NE', 'NECB', 'NEE', 'NEGG', 'NEM', 'NEN', 'NEO', 'NEOG', 'NEON', 'NEP', 'NEPH', 'NEPT', 'NERV', 'NES', 'NESR', 'NET', 'NETE', 'NETI', 'NEU', 'NEW', 'NEWP', 'NEWR', 'NEWT', 'NEX', 'NEXA', 'NEXI', 'NEXT', 'NFBK', 'NFE', 'NFG', 'NFH', 'NFLX', 'NG', 'NGAB', 'NGC', 'NGCA', 'NGD', 'NGG', 'NGL', 'NGM', 'NGMS', 'NGS', 'NGVC', 'NGVT', 'NH', 'NHC', 'NHI', 'NHTC', 'NI', 'NICE', 'NICK', 'NINE', 'NIO', 'NISN', 'NIU', 'NJR', 'NKE', 'NKLA', 'NKSH', 'NKTR', 'NKTX', 'NL', 'NLIT', 'NLOK', 'NLS', 'NLSN', 'NLSP', 'NLTX', 'NLY', 'NM', 'NMFC', 'NMG', 'NMIH', 'NMM', 'NMMC', 'NMR', 'NMRD', 'NMRK', 'NMTC', 'NMTR', 'NNA', 'NNBR', 'NNDM', 'NNI', 'NNN', 'NNOX', 'NNVC', 'NOA', 'NOAC', 'NOAH', 'NOC', 'NODK', 'NOG', 'NOK', 'NOMD', 'NOTV', 'NOV', 'NOVA', 'NOVN', 'NOVT', 'NOW', 'NP', 'NPCE', 'NPK', 'NPO', 'NPTN', 'NR', 'NRAC', 'NRBO', 'NRC', 'NREF', 'NRG', 'NRIM', 'NRIX', 'NRP', 'NRT', 'NRXP', 'NRZ', 'NS', 'NSA', 'NSC', 'NSEC', 'NSIT', 'NSP', 'NSPR', 'NSR', 'NSSC', 'NSTB', 'NSTC', 'NSTD', 'NSTG', 'NSYS', 'NTAP', 'NTB', 'NTCO', 'NTCT', 'NTES', 'NTGR', 'NTIC', 'NTIP', 'NTLA', 'NTNX', 'NTP', 'NTR', 'NTRA', 'NTRS', 'NTST', 'NTUS', 'NTWK', 'NTZ', 'NUAN', 'NUE', 'NURO', 'NUS', 'NUVA', 'NUVB', 'NUVL', 'NUWE', 'NUZE', 'NVAX', 'NVCN', 'NVCR', 'NVDA', 'NVEC', 'NVEE', 'NVFY', 'NVGS', 'NVIV', 'NVMI', 'NVO', 'NVOS', 'NVR', 'NVRO', 'NVS', 'NVSA', 'NVST', 'NVT', 'NVTA', 'NVVE', 'NWBI', 'NWE', 'NWFL', 'NWG', 'NWHM', 'NWL', 'NWLI', 'NWN', 'NWPX', 'NWS', 'NWSA', 'NX', 'NXE', 'NXGN', 'NXPI', 'NXRT', 'NXST', 'NXTC', 'NXTD', 'NXTP', 'NXU', 'NYC', 'NYCB', 'NYMT', 'NYMX', 'NYT', 'NYXH', 'O', 'OACB', 'OAS', 'OB', 'OBAS', 'OBCI', 'OBLG', 'OBNK', 'OBSV', 'OBT', 'OC', 'OCA', 'OCAX', 'OCC', 'OCCI', 'OCDX', 'OCFC', 'OCFT', 'OCG', 'OCGN', 'OCN', 'OCSL', 'OCUL', 'OCUP', 'OCX', 'ODC', 'ODFL', 'ODP', 'ODT', 'OEC', 'OEG', 'OEPW', 'OESX', 'OFC', 'OFED', 'OFG', 'OFIX', 'OFLX', 'OFS', 'OG', 'OGE', 'OGEN', 'OGI', 'OGN', 'OGS', 'OHI', 'OHPA', 'OI', 'OII', 'OIIM', 'OIS', 'OKE', 'OKTA', 'OLB', 'OLED', 'OLK', 'OLLI', 'OLMA', 'OLN', 'OLO', 'OLP', 'OM', 'OMAB', 'OMC', 'OMCL', 'OMEG', 'OMER', 'OMEX', 'OMF', 'OMGA', 'OMI', 'OMIC', 'OMP', 'OMQS', 'ON', 'ONB', 'ONCR', 'ONCS', 'ONCT', 'ONCY', 'ONDS', 'ONE', 'ONEM', 'ONEW', 'ONTF', 'ONTO', 'ONTX', 'ONVO', 'OOMA', 'OPA', 'OPAD', 'OPBK', 'OPCH', 'OPEN', 'OPFI', 'OPGN', 'OPHC', 'OPI', 'OPK', 'OPNT', 'OPOF', 'OPRA', 'OPRT', 'OPRX', 'OPT', 'OPTN', 'OPTT', 'OPY', 'OR', 'ORA', 'ORAN', 'ORC', 'ORCC', 'ORCL', 'ORGN', 'ORGO', 'ORGS', 'ORI', 'ORIA', 'ORIC', 'ORLA', 'ORLY', 'ORMP', 'ORN', 'ORPH', 'ORRF', 'ORTX', 'OSAT', 'OSBC', 'OSCR', 'OSG', 'OSH', 'OSI', 'OSIS', 'OSK', 'OSMT', 'OSN', 'OSPN', 'OSS', 'OSTK', 'OSTR', 'OSUR', 'OSW', 'OTEC', 'OTEX', 'OTIC', 'OTIS', 'OTLK', 'OTLY', 'OTMO', 'OTRA', 'OTRK', 'OTTR', 'OUST', 'OUT', 'OVBC', 'OVID', 'OVLY', 'OVV', 'OWL', 'OWLT', 'OXBR', 'OXM', 'OXSQ', 'OXY', 'OYST', 'OZK', 'OZON', 'PAA', 'PAAS', 'PAC', 'PACB', 'PACE', 'PACK', 'PACW', 'PACX', 'PAE', 'PAG', 'PAGP', 'PAGS', 'PAHC', 'PAIC', 'PALI', 'PALT', 'PAM', 'PANA', 'PANL', 'PANW', 'PAQC', 'PAR', 'PARR', 'PASG', 'PATH', 'PATI', 'PATK', 'PAVM', 'PAX', 'PAY', 'PAYA', 'PAYC', 'PAYO', 'PAYS', 'PAYX', 'PB', 'PBA', 'PBBK', 'PBCT', 'PBF', 'PBFS', 'PBFX', 'PBH', 'PBHC', 'PBI', 'PBIP', 'PBLA', 'PBPB', 'PBR', 'PBR.A', 'PBT', 'PBTS', 'PBYI', 'PCAR', 'PCB', 'PCG', 'PCH', 'PCOM', 'PCOR', 'PCPC', 'PCRX', 'PCSA', 'PCSB', 'PCT', 'PCTI', 'PCTY', 'PCVX', 'PCYG', 'PCYO', 'PD', 'PDCE', 'PDCO', 'PDD', 'PDEX', 'PDFS', 'PDLB', 'PDM', 'PDOT', 'PDS', 'PDSB', 'PEAK', 'PEB', 'PEBK', 'PEBO', 'PECO', 'PED', 'PEG', 'PEGA', 'PEI', 'PEN', 'PENN', 'PEP', 'PERI', 'PESI', 'PETQ', 'PETS', 'PETV', 'PETZ', 'PFBC', 'PFBI', 'PFC', 'PFDR', 'PFE', 'PFG', 'PFGC', 'PFHD', 'PFIE', 'PFIN', 'PFIS', 'PFLT', 'PFMT', 'PFS', 'PFSI', 'PFSW', 'PFX', 'PG', 'PGC', 'PGEN', 'PGNY', 'PGR', 'PGRE', 'PGRW', 'PGTI', 'PH', 'PHAR', 'PHAS', 'PHAT', 'PHCF', 'PHG', 'PHGE', 'PHI', 'PHIC', 'PHIO', 'PHM', 'PHR', 'PHUN', 'PHVS', 'PHX', 'PI', 'PIAI', 'PICC', 'PII', 'PINC', 'PINE', 'PING', 'PINS', 'PIPP', 'PIPR', 'PIRS', 'PIXY', 'PJT', 'PK', 'PKBK', 'PKE', 'PKG', 'PKI', 'PKOH', 'PKX', 'PLAB', 'PLAG', 'PLAN', 'PLAY', 'PLBC', 'PLBY', 'PLCE', 'PLD', 'PLG', 'PLIN', 'PLL', 'PLM', 'PLMI', 'PLMR', 'PLNT', 'PLOW', 'PLPC', 'PLRX', 'PLSE', 'PLTK', 'PLTR', 'PLUG', 'PLUS', 'PLX', 'PLXP', 'PLXS', 'PLYA', 'PLYM', 'PM', 'PMBC', 'PMCB', 'PMD', 'PME', 'PMGM', 'PMT', 'PMTS', 'PMVC', 'PMVP', 'PNBK', 'PNC', 'PNFP', 'PNM', 'PNNT', 'PNR', 'PNRG', 'PNT', 'PNTG', 'PNTM', 'PNW', 'POAI', 'PODD', 'POLA', 'POLY', 'POND', 'POOL', 'POR', 'POSH', 'POST', 'POW', 'POWI', 'POWL', 'POWW', 'PPBI', 'PPBT', 'PPC', 'PPD', 'PPG', 'PPGH', 'PPIH', 'PPL', 'PPSI', 'PPTA', 'PRA', 'PRAA', 'PRAX', 'PRCH', 'PRDO', 'PRFT', 'PRFX', 'PRG', 'PRGO', 'PRGS', 'PRI', 'PRIM', 'PRK', 'PRLB', 'PRLD', 'PRMW', 'PRO', 'PROF', 'PROG', 'PROV', 'PRPB', 'PRPC', 'PRPH', 'PRPL', 'PRPO', 'PRQR', 'PRSR', 'PRT', 'PRTA', 'PRTC', 'PRTG', 'PRTH', 'PRTK', 'PRTS', 'PRTY', 'PRU', 'PRVA', 'PRVB', 'PSA', 'PSAG', 'PSB', 'PSEC', 'PSFE', 'PSHG', 'PSMT', 'PSN', 'PSNL', 'PSO', 'PSPC', 'PSTG', 'PSTH', 'PSTI', 'PSTL', 'PSTV', 'PSTX', 'PSX', 'PSXP', 'PT', 'PTC', 'PTCT', 'PTE', 'PTEN', 'PTGX', 'PTIC', 'PTIX', 'PTK', 'PTMN', 'PTN', 'PTNR', 'PTOC', 'PTON', 'PTPI', 'PTR', 'PTRA', 'PTRS', 'PTSI', 'PTVE', 'PUBM', 'PUCK', 'PUK', 'PULM', 'PUMP', 'PUYI', 'PV', 'PVAC', 'PVBC', 'PVG', 'PVH', 'PVL', 'PW', 'PWFL', 'PWOD', 'PWP', 'PWR', 'PWSC', 'PXD', 'PXLW', 'PXS', 'PYCR', 'PYPD', 'PYPL', 'PYR', 'PZG', 'PZN', 'PZZA', 'QADA', 'QADB', 'QCOM', 'QCRH', 'QD', 'QDEL', 'QELL', 'QFIN', 'QFTA', 'QGEN', 'QH', 'QIPT', 'QIWI', 'QK', 'QLGN', 'QLI', 'QLYS', 'QMCO', 'QNST', 'QRHC', 'QRTEA', 'QRTEB', 'QRVO', 'QS', 'QSI', 'QSR', 'QTNT', 'QTRX', 'QTT', 'QTWO', 'QUAD', 'QUBT', 'QUIK', 'QUMU', 'QUOT', 'QURE', 'R', 'RAAS', 'RACB', 'RACE', 'RAD', 'RADA', 'RADI', 'RAIL', 'RAIN', 'RAM', 'RAMP', 'RAND', 'RANI', 'RAPT', 'RARE', 'RAVE', 'RAVN', 'RBA', 'RBAC', 'RBB', 'RBBN', 'RBC', 'RBCAA', 'RBCN', 'RBKB', 'RBLX', 'RBNC', 'RC', 'RCAT', 'RCEL', 'RCHG', 'RCI', 'RCII', 'RCKT', 'RCKY', 'RCL', 'RCLF', 'RCM', 'RCMT', 'RCON', 'RCOR', 'RCRT', 'RCUS', 'RDCM', 'RDFN', 'RDHL', 'RDI', 'RDIB', 'RDN', 'RDNT', 'RDS.A', 'RDS.B', 'RDUS', 'RDVT', 'RDW', 'RDWR', 'RDY', 'RE', 'REAL', 'REAX', 'REDU', 'REE', 'REED', 'REFR', 'REG', 'REGI', 'REGN', 'REI', 'REKR', 'RELI', 'RELL', 'RELX', 'RENN', 'REPH', 'REPL', 'REPX', 'RERE', 'RES', 'RESN', 'RETA', 'RETO', 'REV', 'REVG', 'REVH', 'REX', 'REXR', 'REYN', 'REZI', 'RF', 'RFIL', 'RFL', 'RFP', 'RGA', 'RGC', 'RGCO', 'RGEN', 'RGLD', 'RGLS', 'RGNX', 'RGP', 'RGR', 'RGS', 'RH', 'RHE', 'RHI', 'RHP', 'RIBT', 'RICE', 'RICK', 'RICO', 'RIDE', 'RIG', 'RIGL', 'RILY', 'RIO', 'RIOT', 'RIVE', 'RJF', 'RKDA', 'RKLB', 'RKLY', 'RKT', 'RKTA', 'RL', 'RLAY', 'RLGT', 'RLGY', 'RLI', 'RLJ', 'RLMD', 'RLX', 'RLYB', 'RM', 'RMAX', 'RMBI', 'RMBL', 'RMBS', 'RMCF', 'RMD', 'RMED', 'RMGC', 'RMNI', 'RMO', 'RMR', 'RMTI', 'RNA', 'RNAZ', 'RNDB', 'RNG', 'RNGR', 'RNLX', 'RNR', 'RNST', 'RNW', 'RNWK', 'RNXT', 'ROAD', 'ROCK', 'ROCR', 'ROG', 'ROIC', 'ROK', 'ROKU', 'ROL', 'ROLL', 'RONI', 'ROOT', 'ROP', 'ROSS', 'ROST', 'ROT', 'ROVR', 'RPAI', 'RPAY', 'RPD', 'RPHM', 'RPID', 'RPM', 'RPRX', 'RPT', 'RPTX', 'RRBI', 'RRC', 'RRD', 'RRGB', 'RRR', 'RS', 'RSG', 'RSI', 'RSKD', 'RSLS', 'RSSS', 'RSVR', 'RTLR', 'RTPY', 'RTX', 'RUBY', 'RUN', 'RUSHA', 'RUSHB', 'RUTH', 'RVI', 'RVLV', 'RVMD', 'RVNC', 'RVP', 'RVPH', 'RVSB', 'RWLK', 'RWT', 'RXDX', 'RXN', 'RXRA', 'RXRX', 'RXST', 'RXT', 'RY', 'RYAAY', 'RYAM', 'RYAN', 'RYB', 'RYI', 'RYN', 'RYTM', 'RZLT', 'S', 'SA', 'SABR', 'SACH', 'SAFE', 'SAFM', 'SAFT', 'SAGE', 'SAH', 'SAIA', 'SAIC', 'SAIL', 'SAL', 'SALM', 'SAM', 'SAMG', 'SAN', 'SANA', 'SAND', 'SANM', 'SANW', 'SAP', 'SAR', 'SASR', 'SATS', 'SAVA', 'SAVE', 'SB', 'SBAC', 'SBBP', 'SBCF', 'SBEA', 'SBET', 'SBEV', 'SBFG', 'SBGI', 'SBH', 'SBII', 'SBLK', 'SBNY', 'SBOW', 'SBR', 'SBRA', 'SBS', 'SBSI', 'SBSW', 'SBT', 'SBTX', 'SBUX', 'SC', 'SCAQ', 'SCCO', 'SCHL', 'SCHN', 'SCHW', 'SCI', 'SCKT', 'SCL', 'SCLE', 'SCM', 'SCOA', 'SCOB', 'SCOR', 'SCPH', 'SCPL', 'SCPS', 'SCR', 'SCS', 'SCSC', 'SCU', 'SCVL', 'SCVX', 'SCWX', 'SCX', 'SCYX', 'SD', 'SDAC', 'SDC', 'SDGR', 'SDH', 'SDPI', 'SE', 'SEAC', 'SEAH', 'SEAS', 'SEB', 'SECO', 'SEDG', 'SEE', 'SEED', 'SEEL', 'SEER', 'SEIC', 'SELB', 'SELF', 'SEM', 'SEMR', 'SENEA', 'SENEB', 'SENS', 'SERA', 'SESN', 'SF', 'SFBC', 'SFBS', 'SFE', 'SFET', 'SFIX', 'SFL', 'SFM', 'SFNC', 'SFST', 'SFT', 'SFUN', 'SGA', 'SGAM', 'SGBX', 'SGC', 'SGEN', 'SGFY', 'SGH', 'SGHT', 'SGLB', 'SGMA', 'SGMO', 'SGMS', 'SGOC', 'SGRP', 'SGRY', 'SGTX', 'SGU', 'SHAC', 'SHAK', 'SHBI', 'SHC', 'SHCR', 'SHEN', 'SHG', 'SHI', 'SHIP', 'SHLS', 'SHLX', 'SHO', 'SHOO', 'SHOP', 'SHQA', 'SHW', 'SHYF', 'SI', 'SIBN', 'SIC', 'SID', 'SIEB', 'SIEN', 'SIF', 'SIFY', 'SIG', 'SIGA', 'SIGI', 'SII', 'SILC', 'SILK', 'SILV', 'SIM', 'SIMO', 'SINO', 'SINT', 'SIOX', 'SIRI', 'SITC', 'SITE', 'SITM', 'SIVB', 'SIX', 'SJ', 'SJI', 'SJM', 'SJR', 'SJT', 'SJW', 'SKIL', 'SKIN', 'SKLZ', 'SKM', 'SKT', 'SKX', 'SKY', 'SKYA', 'SKYT', 'SKYW', 'SLAB', 'SLAC', 'SLAM', 'SLB', 'SLCA', 'SLCR', 'SLCT', 'SLDB', 'SLF', 'SLG', 'SLGC', 'SLGG', 'SLGL', 'SLGN', 'SLHG', 'SLI', 'SLM', 'SLN', 'SLNG', 'SLNO', 'SLP', 'SLQT', 'SLRC', 'SLRX', 'SLS', 'SM', 'SMAR', 'SMBC', 'SMBK', 'SMCI', 'SMED', 'SMFG', 'SMFR', 'SMG', 'SMHI', 'SMID', 'SMIH', 'SMIT', 'SMLP', 'SMMF', 'SMMT', 'SMP', 'SMPL', 'SMRT', 'SMSI', 'SMTC', 'SMTI', 'SMTS', 'SMWB', 'SNA', 'SNAP', 'SNAX', 'SNBR', 'SNCR', 'SNCY', 'SND', 'SNDL', 'SNDR', 'SNDX', 'SNES', 'SNEX', 'SNFCA', 'SNGX', 'SNII', 'SNMP', 'SNN', 'SNOA', 'SNOW', 'SNP', 'SNPO', 'SNPS', 'SNPX', 'SNR', 'SNRH', 'SNSE', 'SNTG', 'SNV', 'SNX', 'SNY', 'SO', 'SOFI', 'SOGO', 'SOHO', 'SOHU', 'SOI', 'SOL', 'SOLO', 'SOLY', 'SON', 'SONM', 'SONN', 'SONO', 'SONY', 'SOPH', 'SOS', 'SOTK', 'SP', 'SPAQ', 'SPB', 'SPCB', 'SPCE', 'SPFI', 'SPFR', 'SPG', 'SPGI', 'SPGS', 'SPH', 'SPI', 'SPIR', 'SPK', 'SPKB', 'SPLK', 'SPLP', 'SPNE', 'SPNS', 'SPNT', 'SPOK', 'SPOT', 'SPPI', 'SPR', 'SPRB', 'SPRO', 'SPRT', 'SPSC', 'SPT', 'SPTK', 'SPTN', 'SPWH', 'SPWR', 'SPXC', 'SQ', 'SQBGQ', 'SQFT', 'SQL', 'SQM', 'SQNS', 'SQSP', 'SQZ', 'SR', 'SRAX', 'SRC', 'SRCE', 'SRCL', 'SRDX', 'SRE', 'SREV', 'SRG', 'SRGA', 'SRI', 'SRL', 'SRLP', 'SRNE', 'SRNG', 'SRPT', 'SRRA', 'SRRK', 'SRSA', 'SRT', 'SRTS', 'SRZN', 'SSAA', 'SSB', 'SSBI', 'SSBK', 'SSD', 'SSKN', 'SSL', 'SSNC', 'SSNT', 'SSP', 'SSRM', 'SSSS', 'SSTI', 'SSTK', 'SSY', 'SSYS', 'ST', 'STAA', 'STAB', 'STAF', 'STAG', 'STAR', 'STBA', 'STC', 'STCN', 'STE', 'STEM', 'STEP', 'STFC', 'STG', 'STGW', 'STIM', 'STKL', 'STKS', 'STL', 'STLA', 'STLD', 'STM', 'STMP', 'STN', 'STNE', 'STNG', 'STOK', 'STON', 'STOR', 'STPC', 'STRA', 'STRE', 'STRL', 'STRM', 'STRO', 'STRR', 'STRS', 'STRT', 'STSA', 'STT', 'STTK', 'STVN', 'STWD', 'STWO', 'STX', 'STXB', 'STXS', 'STZ', 'SU', 'SUI', 'SUM', 'SUMO', 'SUMR', 'SUN', 'SUNL', 'SUNS', 'SUNW', 'SUP', 'SUPN', 'SUPV', 'SURF', 'SUZ', 'SV', 'SVBI', 'SVC', 'SVFA', 'SVFB', 'SVFC', 'SVFD', 'SVM', 'SVOK', 'SVRA', 'SVT', 'SVVC', 'SWAV', 'SWBI', 'SWBK', 'SWCH', 'SWET', 'SWI', 'SWIM', 'SWIR', 'SWK', 'SWKH', 'SWKS', 'SWM', 'SWN', 'SWTX', 'SWX', 'SXC', 'SXI', 'SXT', 'SXTC', 'SY', 'SYBT', 'SYBX', 'SYF', 'SYK', 'SYN', 'SYNA', 'SYNH', 'SYNL', 'SYPR', 'SYRS', 'SYTA', 'SYY', 'T', 'TA', 'TAC', 'TACA', 'TACO', 'TACT', 'TAIT', 'TAK', 'TAL', 'TALK', 'TALO', 'TALS', 'TANH', 'TAOP', 'TAP', 'TARA', 'TARO', 'TARS', 'TASK', 'TAST', 'TATT', 'TAYD', 'TBBK', 'TBCP', 'TBI', 'TBIO', 'TBK', 'TBLA', 'TBLD', 'TBLT', 'TBNK', 'TBPH', 'TBSA', 'TC', 'TCAC', 'TCBC', 'TCBI', 'TCBK', 'TCBS', 'TCDA', 'TCFC', 'TCI', 'TCMD', 'TCOM', 'TCON', 'TCPC', 'TCRR', 'TCRX', 'TCS', 'TCVA', 'TCX', 'TD', 'TDAC', 'TDC', 'TDG', 'TDOC', 'TDS', 'TDUP', 'TDW', 'TDY', 'TEAM', 'TECH', 'TECK', 'TEDU', 'TEF', 'TEKK', 'TEL', 'TELA', 'TELL', 'TEN', 'TENB', 'TENX', 'TEO', 'TER', 'TERN', 'TESS', 'TETC', 'TEVA', 'TEX', 'TFC', 'TFFP', 'TFII', 'TFSL', 'TFX', 'TG', 'TGA', 'TGB', 'TGH', 'TGI', 'TGLS', 'TGNA', 'TGP', 'TGS', 'TGT', 'TGTX', 'TH', 'THC', 'THCA', 'THFF', 'THG', 'THM', 'THMA', 'THMO', 'THO', 'THR', 'THRM', 'THRY', 'THS', 'THTX', 'TIG', 'TIGO', 'TIGR', 'TIL', 'TILE', 'TIMB', 'TINV', 'TIOA', 'TIPT', 'TIRX', 'TISI', 'TITN', 'TIXT', 'TJX', 'TK', 'TKAT', 'TKC', 'TKNO', 'TKR', 'TLC', 'TLGA', 'TLGT', 'TLIS', 'TLK', 'TLMD', 'TLRY', 'TLS', 'TLSA', 'TLYS', 'TM', 'TMAC', 'TMBR', 'TMC', 'TMCI', 'TMDI', 'TMDX', 'TME', 'TMHC', 'TMKR', 'TMO', 'TMP', 'TMPM', 'TMQ', 'TMST', 'TMTS', 'TMUS', 'TMX', 'TNC', 'TNDM', 'TNET', 'TNGX', 'TNK', 'TNL', 'TNP', 'TNT', 'TNXP', 'TNYA', 'TOL', 'TOMZ', 'TOPS', 'TOUR', 'TOWN', 'TPB', 'TPC', 'TPGS', 'TPGY', 'TPH', 'TPHS', 'TPIC', 'TPL', 'TPR', 'TPST', 'TPTX', 'TPVG', 'TPX', 'TR', 'TRC', 'TRCA', 'TREB', 'TREC', 'TREE', 'TREX', 'TRGP', 'TRHC', 'TRI', 'TRIB', 'TRIL', 'TRIN', 'TRIP', 'TRIT', 'TRKA', 'TRMB', 'TRMD', 'TRMK', 'TRMR', 'TRMT', 'TRN', 'TRNO', 'TRNS', 'TRON', 'TROW', 'TROX', 'TRP', 'TRQ', 'TRS', 'TRST', 'TRT', 'TRTN', 'TRTX', 'TRU', 'TRUE', 'TRUP', 'TRV', 'TRVG', 'TRVI', 'TRVN', 'TRX', 'TS', 'TSBK', 'TSC', 'TSCO', 'TSE', 'TSEM', 'TSHA', 'TSIB', 'TSLA', 'TSLX', 'TSM', 'TSN', 'TSP', 'TSPQ', 'TSQ', 'TSRI', 'TT', 'TTC', 'TTCF', 'TTD', 'TTE', 'TTEC', 'TTEK', 'TTGT', 'TTI', 'TTM', 'TTMI', 'TTNP', 'TTOO', 'TTSH', 'TTWO', 'TU', 'TUEM', 'TUFN', 'TUGC', 'TUP', 'TURN', 'TUSK', 'TUYA', 'TV', 'TVAC', 'TVTX', 'TVTY', 'TW', 'TWI', 'TWIN', 'TWLO', 'TWLV', 'TWND', 'TWNI', 'TWNK', 'TWNT', 'TWO', 'TWOA', 'TWOU', 'TWST', 'TWTR', 'TX', 'TXG', 'TXMD', 'TXN', 'TXRH', 'TXT', 'TYG', 'TYHT', 'TYL', 'TYME', 'TZOO', 'TZPS', 'U', 'UA', 'UAA', 'UAL', 'UAMY', 'UAN', 'UAVS', 'UBA', 'UBCP', 'UBER', 'UBFO', 'UBOH', 'UBP', 'UBS', 'UBSI', 'UBX', 'UCBI', 'UCL', 'UCTT', 'UDR', 'UE', 'UEC', 'UEIC', 'UEPS', 'UFAB', 'UFCS', 'UFI', 'UFPI', 'UFPT', 'UFS', 'UG', 'UGI', 'UGP', 'UGRO', 'UHAL', 'UHS', 'UHT', 'UI', 'UIHC', 'UIS', 'UK', 'UL', 'ULBI', 'ULCC', 'ULH', 'ULTA', 'UMBF', 'UMC', 'UMH', 'UMPQ', 'UNAM', 'UNB', 'UNCY', 'UNF', 'UNFI', 'UNH', 'UNIT', 'UNM', 'UNP', 'UNTY', 'UNVR', 'UONE', 'UONEK', 'UP', 'UPC', 'UPH', 'UPLD', 'UPS', 'UPST', 'UPWK', 'URBN', 'URG', 'URGN', 'URI', 'UROY', 'USAC', 'USAK', 'USAP', 'USAS', 'USAU', 'USB', 'USCB', 'USDP', 'USEG', 'USFD', 'USIO', 'USLM', 'USM', 'USNA', 'USPH', 'USWS', 'USX', 'UTHR', 'UTI', 'UTL', 'UTMD', 'UTME', 'UTSI', 'UTZ', 'UUU', 'UUUU', 'UVE', 'UVSP', 'UVV', 'UWMC', 'UXIN', 'V', 'VABK', 'VAC', 'VACC', 'VAL', 'VALE', 'VALN', 'VALU', 'VAPO', 'VAQC', 'VBFC', 'VBIV', 'VBLT', 'VBTX', 'VC', 'VCEL', 'VCKA', 'VCNX', 'VCRA', 'VCTR', 'VCYT', 'VEC', 'VECO', 'VECT', 'VEDL', 'VEEE', 'VEEV', 'VEI', 'VEL', 'VELO', 'VENA', 'VEON', 'VER', 'VERA', 'VERB', 'VERI', 'VERO', 'VERU', 'VERV', 'VERX', 'VERY', 'VET', 'VEV', 'VFC', 'VFF', 'VG', 'VGII', 'VGR', 'VGZ', 'VHAQ', 'VHC', 'VHI', 'VIA', 'VIAC', 'VIACA', 'VIAO', 'VIAV', 'VICI', 'VICR', 'VIEW', 'VIH', 'VII', 'VINC', 'VINO', 'VINP', 'VIOT', 'VIPS', 'VIR', 'VIRC', 'VIRI', 'VIRT', 'VIRX', 'VISL', 'VIST', 'VITL', 'VIV', 'VIVE', 'VIVO', 'VJET', 'VKTX', 'VLAT', 'VLDR', 'VLGEA', 'VLO', 'VLON', 'VLRS', 'VLTA', 'VLY', 'VMAC', 'VMAR', 'VMC', 'VMD', 'VMEO', 'VMI', 'VMW', 'VNCE', 'VNDA', 'VNE', 'VNET', 'VNO', 'VNOM', 'VNRX', 'VNT', 'VNTR', 'VOC', 'VOD', 'VOLT', 'VOR', 'VOSO', 'VOXX', 'VOYA', 'VPCB', 'VPCC', 'VPG', 'VQS', 'VRA', 'VRAR', 'VRAY', 'VRCA', 'VRDN', 'VREX', 'VRM', 'VRME', 'VRNA', 'VRNS', 'VRNT', 'VRPX', 'VRRM', 'VRS', 'VRSK', 'VRSN', 'VRT', 'VRTS', 'VRTV', 'VRTX', 'VS', 'VSAT', 'VSCO', 'VSEC', 'VSH', 'VST', 'VSTA', 'VSTM', 'VSTO', 'VTAQ', 'VTEX', 'VTGN', 'VTIQ', 'VTNR', 'VTOL', 'VTR', 'VTRS', 'VTRU', 'VTSI', 'VTVT', 'VUZI', 'VVI', 'VVNT', 'VVOS', 'VVPR', 'VVV', 'VWE', 'VWTR', 'VXRT', 'VYGG', 'VYGR', 'VYNE', 'VYNT', 'VZ', 'VZIO', 'W', 'WAB', 'WABC', 'WAFD', 'WAFU', 'WAL', 'WALD', 'WARR', 'WASH', 'WAT', 'WATT', 'WAVE', 'WB', 'WBA', 'WBK', 'WBS', 'WBT', 'WCC', 'WCN', 'WD', 'WDAY', 'WDC', 'WDFC', 'WDH', 'WEBR', 'WEC', 'WEI', 'WELL', 'WEN', 'WERN', 'WES', 'WETF', 'WEX', 'WEYS', 'WF', 'WFC', 'WFCF', 'WFG', 'WFRD', 'WGO', 'WH', 'WHD', 'WHF', 'WHG', 'WHLM', 'WHLR', 'WHR', 'WILC', 'WIMI', 'WINA', 'WING', 'WINT', 'WIRE', 'WISA', 'WISH', 'WIT', 'WIX', 'WK', 'WKEY', 'WKHS', 'WKME', 'WKSP', 'WLDN', 'WLFC', 'WLK', 'WLKP', 'WLL', 'WLMS', 'WLTW', 'WM', 'WMB', 'WMC', 'WMG', 'WMK', 'WMPN', 'WMS', 'WMT', 'WNC', 'WNEB', 'WNS', 'WNW', 'WOOF', 'WOR', 'WORX', 'WOW', 'WPC', 'WPCA', 'WPCB', 'WPG', 'WPM', 'WPP', 'WPRT', 'WRAP', 'WRB', 'WRE', 'WRK', 'WRLD', 'WRN', 'WSBC', 'WSBF', 'WSC', 'WSFS', 'WSM', 'WSO', 'WSR', 'WST', 'WSTG', 'WTBA', 'WTER', 'WTFC', 'WTI', 'WTM', 'WTRG', 'WTRH', 'WTS', 'WTT', 'WTTR', 'WU', 'WVE', 'WVFC', 'WVVI', 'WW', 'WWD', 'WWE', 'WWR', 'WWW', 'WY', 'WYNN', 'WYY', 'X', 'XAIR', 'XBIO', 'XBIT', 'XCUR', 'XEC', 'XEL', 'XELA', 'XELB', 'XENE', 'XENT', 'XERS', 'XFOR', 'XGN', 'XHR', 'XIN', 'XL', 'XLNX', 'XLRN', 'XM', 'XMTR', 'XNCR', 'XNET', 'XOG', 'XOM', 'XOMA', 'XONE', 'XOS', 'XP', 'XPDI', 'XPEL', 'XPER', 'XPEV', 'XPL', 'XPO', 'XPOA', 'XPOF', 'XRAY', 'XRX', 'XSPA', 'XTLB', 'XTNT', 'XXII', 'XYF', 'XYL', 'Y', 'YAC', 'YALA', 'YCBD', 'YELL', 'YELP', 'YETI', 'YEXT', 'YGMZ', 'YI', 'YJ', 'YMAB', 'YMM', 'YMTX', 'YNDX', 'YORW', 'YOU', 'YPF', 'YQ', 'YRD', 'YSAC', 'YSG', 'YTEN', 'YTPG', 'YTRA', 'YUM', 'YUMC', 'YVR', 'YY', 'Z', 'ZBH', 'ZBRA', 'ZCMD', 'ZDGE', 'ZEAL', 'ZEN', 'ZENV', 'ZEPP', 'ZEST', 'ZETA', 'ZEUS', 'ZEV', 'ZG', 'ZGNX', 'ZGYH', 'ZH', 'ZI', 'ZIM', 'ZION', 'ZIOP', 'ZIP', 'ZIVO', 'ZIXI', 'ZKIN', 'ZLAB', 'ZM', 'ZME', 'ZNGA', 'ZNH', 'ZNTE', 'ZNTL', 'ZOM', 'ZS', 'ZSAN', 'ZT', 'ZTO', 'ZTS', 'ZUMZ', 'ZUO', 'ZVIA', 'ZVO', 'ZWRK', 'ZY', 'ZYME', 'ZYNE', 'ZYXI']\n"
     ]
    }
   ],
   "source": [
    "symbols = df.Symbol.tolist()\n",
    "print(symbols)"
   ]
  },
  {
   "cell_type": "code",
   "execution_count": 8,
   "metadata": {},
   "outputs": [
    {
     "name": "stdout",
     "output_type": "stream",
     "text": [
      "A\n",
      "Agilent Technologies\n"
     ]
    }
   ],
   "source": [
    "companies = df.CompanyName.tolist()\n",
    "print(symbols[0])\n",
    "print(companies[0])\n"
   ]
  },
  {
   "cell_type": "code",
   "execution_count": 9,
   "metadata": {},
   "outputs": [
    {
     "name": "stderr",
     "output_type": "stream",
     "text": [
      "<>:1: SyntaxWarning: invalid escape sequence '\\s'\n",
      "<>:1: SyntaxWarning: invalid escape sequence '\\s'\n",
      "C:\\Users\\Manjusha Kumari\\AppData\\Local\\Temp\\ipykernel_10156\\2754970989.py:1: SyntaxWarning: invalid escape sequence '\\s'\n",
      "  df2 = pd.read_csv(\"F:\\spaCy-master\\data\\indexes.tsv\", sep=\"\\t\")\n"
     ]
    },
    {
     "data": {
      "text/html": [
       "<div>\n",
       "<style scoped>\n",
       "    .dataframe tbody tr th:only-of-type {\n",
       "        vertical-align: middle;\n",
       "    }\n",
       "\n",
       "    .dataframe tbody tr th {\n",
       "        vertical-align: top;\n",
       "    }\n",
       "\n",
       "    .dataframe thead th {\n",
       "        text-align: right;\n",
       "    }\n",
       "</style>\n",
       "<table border=\"1\" class=\"dataframe\">\n",
       "  <thead>\n",
       "    <tr style=\"text-align: right;\">\n",
       "      <th></th>\n",
       "      <th>IndexName</th>\n",
       "      <th>IndexSymbol</th>\n",
       "    </tr>\n",
       "  </thead>\n",
       "  <tbody>\n",
       "    <tr>\n",
       "      <th>0</th>\n",
       "      <td>Dow Jones Industrial Average</td>\n",
       "      <td>DJIA</td>\n",
       "    </tr>\n",
       "    <tr>\n",
       "      <th>1</th>\n",
       "      <td>Dow Jones Transportation Average</td>\n",
       "      <td>DJT</td>\n",
       "    </tr>\n",
       "    <tr>\n",
       "      <th>2</th>\n",
       "      <td>Dow Jones Utility Average Index</td>\n",
       "      <td>DJU</td>\n",
       "    </tr>\n",
       "    <tr>\n",
       "      <th>3</th>\n",
       "      <td>NASDAQ 100 Index (NASDAQ Calculation)</td>\n",
       "      <td>NDX</td>\n",
       "    </tr>\n",
       "    <tr>\n",
       "      <th>4</th>\n",
       "      <td>NASDAQ Composite Index</td>\n",
       "      <td>COMP</td>\n",
       "    </tr>\n",
       "  </tbody>\n",
       "</table>\n",
       "</div>"
      ],
      "text/plain": [
       "                               IndexName IndexSymbol\n",
       "0           Dow Jones Industrial Average        DJIA\n",
       "1       Dow Jones Transportation Average         DJT\n",
       "2        Dow Jones Utility Average Index         DJU\n",
       "3  NASDAQ 100 Index (NASDAQ Calculation)         NDX\n",
       "4                 NASDAQ Composite Index        COMP"
      ]
     },
     "execution_count": 9,
     "metadata": {},
     "output_type": "execute_result"
    }
   ],
   "source": [
    "df2 = pd.read_csv(\"F:\\spaCy-master\\data\\indexes.tsv\", sep=\"\\t\")\n",
    "df2.head()"
   ]
  },
  {
   "cell_type": "code",
   "execution_count": 26,
   "metadata": {},
   "outputs": [
    {
     "name": "stdout",
     "output_type": "stream",
     "text": [
      "['Dow Jones Industrial Average', 'Dow Jones Transportation Average', 'Dow Jones Utility Average Index', 'NASDAQ 100 Index (NASDAQ Calculation)', 'NASDAQ Composite Index', 'NYSE Composite Index', 'S&P 500 Index', 'S&P 400 Mid Cap Index', 'S&P 100 Index', 'NASDAQ Computer Index', 'PHLX Semiconductor Index', 'PHLX Gold/Silver Index', 'NYSE Arca Oil Index', 'Russell 2000 Index']\n",
      "['DJIA', 'DJT', 'DJU', 'NDX', 'COMP', 'NYA', 'SPX ', 'MID', 'OEX', 'IXCO', 'SOX', 'XAU', 'XOI', 'RUT']\n"
     ]
    }
   ],
   "source": [
    "indexes = df2.IndexName.tolist()\n",
    "# print(indexes)\n",
    "index_symbols = df2.IndexSymbol.tolist()\n",
    "print(index_symbols)"
   ]
  },
  {
   "cell_type": "code",
   "execution_count": 11,
   "metadata": {},
   "outputs": [
    {
     "name": "stderr",
     "output_type": "stream",
     "text": [
      "<>:1: SyntaxWarning: invalid escape sequence '\\d'\n",
      "<>:1: SyntaxWarning: invalid escape sequence '\\d'\n",
      "C:\\Users\\Manjusha Kumari\\AppData\\Local\\Temp\\ipykernel_10156\\386187697.py:1: SyntaxWarning: invalid escape sequence '\\d'\n",
      "  df3 = pd.read_csv(\"c:\\download\\stock_exchanges.tsv\", sep=\"\\t\")\n"
     ]
    },
    {
     "data": {
      "text/html": [
       "<div>\n",
       "<style scoped>\n",
       "    .dataframe tbody tr th:only-of-type {\n",
       "        vertical-align: middle;\n",
       "    }\n",
       "\n",
       "    .dataframe tbody tr th {\n",
       "        vertical-align: top;\n",
       "    }\n",
       "\n",
       "    .dataframe thead th {\n",
       "        text-align: right;\n",
       "    }\n",
       "</style>\n",
       "<table border=\"1\" class=\"dataframe\">\n",
       "  <thead>\n",
       "    <tr style=\"text-align: right;\">\n",
       "      <th></th>\n",
       "      <th>BloombergExchangeCode</th>\n",
       "      <th>BloombergCompositeCode</th>\n",
       "      <th>Country</th>\n",
       "      <th>Description</th>\n",
       "      <th>ISOMIC</th>\n",
       "      <th>Google Prefix</th>\n",
       "      <th>EODcode</th>\n",
       "      <th>NumStocks</th>\n",
       "    </tr>\n",
       "  </thead>\n",
       "  <tbody>\n",
       "    <tr>\n",
       "      <th>0</th>\n",
       "      <td>AF</td>\n",
       "      <td>AR</td>\n",
       "      <td>Argentina</td>\n",
       "      <td>Bolsa de Comercio de Buenos Aires</td>\n",
       "      <td>XBUE</td>\n",
       "      <td>NaN</td>\n",
       "      <td>BA</td>\n",
       "      <td>12</td>\n",
       "    </tr>\n",
       "    <tr>\n",
       "      <th>1</th>\n",
       "      <td>AO</td>\n",
       "      <td>AU</td>\n",
       "      <td>Australia</td>\n",
       "      <td>National Stock Exchange of Australia</td>\n",
       "      <td>XNEC</td>\n",
       "      <td>NaN</td>\n",
       "      <td>NaN</td>\n",
       "      <td>1</td>\n",
       "    </tr>\n",
       "    <tr>\n",
       "      <th>2</th>\n",
       "      <td>AT</td>\n",
       "      <td>AU</td>\n",
       "      <td>Australia</td>\n",
       "      <td>Asx - All Markets</td>\n",
       "      <td>XASX</td>\n",
       "      <td>ASX</td>\n",
       "      <td>AU</td>\n",
       "      <td>875</td>\n",
       "    </tr>\n",
       "    <tr>\n",
       "      <th>3</th>\n",
       "      <td>AV</td>\n",
       "      <td>NaN</td>\n",
       "      <td>Austria</td>\n",
       "      <td>Wiener Boerse Ag</td>\n",
       "      <td>XWBO</td>\n",
       "      <td>VIE</td>\n",
       "      <td>VI</td>\n",
       "      <td>38</td>\n",
       "    </tr>\n",
       "    <tr>\n",
       "      <th>4</th>\n",
       "      <td>BI</td>\n",
       "      <td>NaN</td>\n",
       "      <td>Bahrain</td>\n",
       "      <td>Bahrain Bourse</td>\n",
       "      <td>XBAH</td>\n",
       "      <td>NaN</td>\n",
       "      <td>NaN</td>\n",
       "      <td>4</td>\n",
       "    </tr>\n",
       "  </tbody>\n",
       "</table>\n",
       "</div>"
      ],
      "text/plain": [
       "  BloombergExchangeCode BloombergCompositeCode    Country  \\\n",
       "0                    AF                     AR  Argentina   \n",
       "1                    AO                     AU  Australia   \n",
       "2                    AT                     AU  Australia   \n",
       "3                    AV                    NaN    Austria   \n",
       "4                    BI                    NaN    Bahrain   \n",
       "\n",
       "                            Description ISOMIC Google Prefix EODcode NumStocks  \n",
       "0     Bolsa de Comercio de Buenos Aires   XBUE           NaN      BA        12  \n",
       "1  National Stock Exchange of Australia   XNEC           NaN     NaN         1  \n",
       "2                     Asx - All Markets   XASX           ASX      AU       875  \n",
       "3                      Wiener Boerse Ag   XWBO           VIE      VI        38  \n",
       "4                        Bahrain Bourse   XBAH           NaN     NaN         4  "
      ]
     },
     "execution_count": 11,
     "metadata": {},
     "output_type": "execute_result"
    }
   ],
   "source": [
    "df3 = pd.read_csv(\"c:\\download\\stock_exchanges.tsv\", sep=\"\\t\")\n",
    "df3.head()"
   ]
  },
  {
   "cell_type": "code",
   "execution_count": 12,
   "metadata": {},
   "outputs": [],
   "source": [
    "exchanges = df3.ISOMIC.tolist() + df3[\"Google Prefix\"].tolist()\n",
    "# print(exchanges)\n",
    "description = df3.Description.tolist()"
   ]
  },
  {
   "cell_type": "code",
   "execution_count": 47,
   "metadata": {},
   "outputs": [
    {
     "name": "stdout",
     "output_type": "stream",
     "text": [
      "169694\n"
     ]
    }
   ],
   "source": [
    "import spacy\n",
    "\n",
    "stops = [\"two\"]\n",
    "nlp = spacy.blank(\"en\")\n",
    "ruler = nlp.add_pipe(\"entity_ruler\")\n",
    "letters = \"ABCDEFGHIJKLMNOPQRSTUVWXYZ\"\n",
    "patterns = []\n",
    "\n",
    "# list of entities and patterns \n",
    "for symbol in symbols:\n",
    "    # print(symbol)\n",
    "    patterns.append(\n",
    "        {\n",
    "            \"label\":\"STOCK\", \"pattern\":symbol\n",
    "        }\n",
    "    )\n",
    "    # print(patterns)\n",
    "    for i in letters:\n",
    "        # print(l)\n",
    "        patterns.append({\n",
    "            \"label\":\"STOCK\", \n",
    "            \"pattern\":symbol+f\".{i}\"  # f\".{l}\" to include the letter from the loop\n",
    "        })\n",
    "\n",
    "\n",
    "for company in companies:\n",
    "    # print(company)\n",
    "    if company not in [\"two\"]:   # if company is \"one\", the condition is true, and it will print \"one\". If company is \"two\", the condition is false, and it will not print anything.\n",
    "        # print(company)\n",
    "        patterns.append({\n",
    "            \"label\":\"COMPANY\", \n",
    "            \"pattern\":company\n",
    "        })\n",
    "        words = company.split()\n",
    "        # print(words)\n",
    "        if len(words) > 1:\n",
    "            new = \" \".join(words[:2])   # two words of the company \n",
    "            # print(new)\n",
    "            patterns.append({\n",
    "                \"label\":\"COMPANY\", \n",
    "                \"pattern\":new\n",
    "            })\n",
    "\n",
    "\n",
    "\n",
    "for index in indexes:\n",
    "    # print(index)\n",
    "    caps = []\n",
    "    versions = []\n",
    "    patterns.append({\n",
    "        \"label\":\"INDEX\", \n",
    "        \"pattern\":index\n",
    "    })\n",
    "    words = index.split()\n",
    "    # print(words)\n",
    "    for word in words:\n",
    "        # print(word)\n",
    "        word = word.lower().capitalize()\n",
    "        # print(word)\n",
    "        caps.append(word)\n",
    "        # print(caps)\n",
    "\n",
    "    versions.append(\" \".join(caps))\n",
    "    # print(versions)\n",
    "    versions.append(words[0])\n",
    "    # print(versions)\n",
    "    versions.append(caps[0])\n",
    "    # print(versions)\n",
    "    versions.append(\" \".join(caps[:2]))\n",
    "    # print(versions)\n",
    "    versions.append(\" \".join(words[:2]))\n",
    "    for version in versions:\n",
    "        # print(version)\n",
    "        if version != \"NYSE\":\n",
    "            patterns.append({\n",
    "                \"label\":\"INDEX\",\n",
    "                \"pattern\":version\n",
    "            })\n",
    "\n",
    "\n",
    "\n",
    "for symbol in index_symbols:\n",
    "    # print(symbol)\n",
    "    patterns.append({\n",
    "        \"label\":\"INDEX\",\n",
    "        \"pattern\":symbol\n",
    "    })\n",
    "\n",
    "\n",
    "for d in description:\n",
    "    patterns.append({\n",
    "        \"label\":\"STOCK_EXCHANGE\",\n",
    "        \"pattern\":d\n",
    "    })\n",
    "\n",
    "for e in exchanges:\n",
    "    patterns.append({\n",
    "        \"label\":\"STOCK_EXCHANGE\",\n",
    "        \"pattern\":e\n",
    "    })\n",
    "\n",
    "\n",
    "ruler.add_patterns(patterns)\n",
    "# print(patterns)\n",
    "print(len(patterns))\n",
    "\n",
    "\n",
    "\n",
    "# print(patterns)\n",
    "        "
   ]
  },
  {
   "cell_type": "code",
   "execution_count": 57,
   "metadata": {},
   "outputs": [
    {
     "data": {
      "text/plain": [
       "0                  STOCK\n",
       "1                  STOCK\n",
       "2                  STOCK\n",
       "3                  STOCK\n",
       "4                  STOCK\n",
       "               ...      \n",
       "169689    STOCK_EXCHANGE\n",
       "169690    STOCK_EXCHANGE\n",
       "169691    STOCK_EXCHANGE\n",
       "169692    STOCK_EXCHANGE\n",
       "169693    STOCK_EXCHANGE\n",
       "Name: label, Length: 169694, dtype: object"
      ]
     },
     "execution_count": 57,
     "metadata": {},
     "output_type": "execute_result"
    }
   ],
   "source": [
    "df4 = pd.DataFrame(patterns)\n",
    "df4[\"label\"]"
   ]
  },
  {
   "cell_type": "code",
   "execution_count": 16,
   "metadata": {},
   "outputs": [],
   "source": [
    "company = \"two\"\n",
    "if company not in [\"two\"]:\n",
    "    print(company)"
   ]
  },
  {
   "cell_type": "code",
   "execution_count": 58,
   "metadata": {},
   "outputs": [],
   "source": [
    "#source: https://www.reuters.com/business/futures-rise-after-biden-xi-call-oil-bounce-2021-09-10/\n",
    "text = '''\n",
    "Sept 10 (Reuters) - Wall Street's main indexes were subdued on Friday as signs of higher inflation and a drop in Apple shares following an unfavorable court ruling offset expectations of an easing in U.S.-China tensions.\n",
    "\n",
    "Data earlier in the day showed U.S. producer prices rose solidly in August, leading to the biggest annual gain in nearly 11 years and indicating that high inflation was likely to persist as the pandemic pressures supply chains. read more .\n",
    "\n",
    "\"Today's data on wholesale prices should be eye-opening for the Federal Reserve, as inflation pressures still don't appear to be easing and will likely continue to be felt by the consumer in the coming months,\" said Charlie Ripley, senior investment strategist for Allianz Investment Management.\n",
    "\n",
    "Apple Inc (AAPL.O) fell 2.7% following a U.S. court ruling in \"Fortnite\" creator Epic Games' antitrust lawsuit that stroke down some of the iPhone maker's restrictions on how developers can collect payments in apps.\n",
    "\n",
    "\n",
    "Sponsored by Advertising Partner\n",
    "Sponsored Video\n",
    "Watch to learn more\n",
    "Report ad\n",
    "Apple shares were set for their worst single-day fall since May this year, weighing on the Nasdaq (.IXIC) and the S&P 500 technology sub-index (.SPLRCT), which fell 0.1%.\n",
    "\n",
    "Sentiment also took a hit from Cleveland Federal Reserve Bank President Loretta Mester's comments that she would still like the central bank to begin tapering asset purchases this year despite the weak August jobs report. read more\n",
    "\n",
    "Investors have paid keen attention to the labor market and data hinting towards higher inflation recently for hints on a timeline for the Federal Reserve to begin tapering its massive bond-buying program.\n",
    "\n",
    "The S&P 500 has risen around 19% so far this year on support from dovish central bank policies and re-opening optimism, but concerns over rising coronavirus infections and accelerating inflation have lately stalled its advance.\n",
    "\n",
    "\n",
    "Report ad\n",
    "The three main U.S. indexes got some support on Friday from news of a phone call between U.S. President Joe Biden and Chinese leader Xi Jinping that was taken as a positive sign which could bring a thaw in ties between the world's two most important trading partners.\n",
    "\n",
    "At 1:01 p.m. ET, the Dow Jones Industrial Average (.DJI) was up 12.24 points, or 0.04%, at 34,891.62, the S&P 500 (.SPX) was up 2.83 points, or 0.06%, at 4,496.11, and the Nasdaq Composite (.IXIC) was up 12.85 points, or 0.08%, at 15,261.11.\n",
    "\n",
    "Six of the eleven S&P 500 sub-indexes gained, with energy (.SPNY), materials (.SPLRCM) and consumer discretionary stocks (.SPLRCD) rising the most.\n",
    "\n",
    "U.S.-listed Chinese e-commerce companies Alibaba and JD.com , music streaming company Tencent Music (TME.N) and electric car maker Nio Inc (NIO.N) all gained between 0.7% and 1.4%\n",
    "\n",
    "\n",
    "Report ad\n",
    "Grocer Kroger Co (KR.N) dropped 7.1% after it said global supply chain disruptions, freight costs, discounts and wastage would hit its profit margins.\n",
    "\n",
    "Advancing issues outnumbered decliners by a 1.12-to-1 ratio on the NYSE and by a 1.02-to-1 ratio on the Nasdaq.\n",
    "\n",
    "The S&P index recorded 14 new 52-week highs and three new lows, while the Nasdaq recorded 49 new highs and 38 new lows.\n",
    "'''"
   ]
  },
  {
   "cell_type": "code",
   "execution_count": 61,
   "metadata": {},
   "outputs": [
    {
     "name": "stdout",
     "output_type": "stream",
     "text": [
      "Apple COMPANY\n",
      "Apple COMPANY\n",
      "AAPL.O STOCK\n",
      "Apple COMPANY\n",
      "Nasdaq COMPANY\n",
      "S&P 500 INDEX\n",
      "S&P 500 INDEX\n",
      "ET STOCK\n",
      "Dow Jones Industrial Average INDEX\n",
      "S&P 500 INDEX\n",
      "Nasdaq Composite INDEX\n",
      "S&P 500 INDEX\n",
      "JD.com COMPANY\n",
      "Tencent Music COMPANY\n",
      "TME.N STOCK\n",
      "NIO.N STOCK\n",
      "Kroger COMPANY\n",
      "KR.N STOCK\n",
      "NYSE STOCK_EXCHANGE\n",
      "Nasdaq INDEX\n",
      "S&P INDEX\n",
      "Nasdaq INDEX\n"
     ]
    }
   ],
   "source": [
    "doc = nlp(text)\n",
    "\n",
    "for ent in doc.ents:\n",
    "    print(ent.text, ent.label_)"
   ]
  },
  {
   "cell_type": "code",
   "execution_count": 66,
   "metadata": {},
   "outputs": [],
   "source": [
    "#source: https://www.reuters.com/companies/AAPL.O\n",
    "text2 = '''\n",
    "Apple Inc. designs, manufactures and markets smartphones, personal computers, tablets, wearables and accessories, and sells a variety of related services. The Company’s products include iPhone, Mac, iPad, and Wearables, Home and Accessories. iPhone is the Company’s line of smartphones based on its iOS operating system. Mac is the Company’s line of personal computers based on its macOS operating system. iPad is the Company’s line of multi-purpose tablets based on its iPadOS operating system. Wearables, Home and Accessories includes AirPods, Apple TV, Apple Watch, Beats products, HomePod, iPod touch and other Apple-branded and third-party accessories. AirPods are the Company’s wireless headphones that interact with Siri. Apple Watch is the Company’s line of smart watches. Its services include Advertising, AppleCare, Cloud Services, Digital Content and Payment Services. Its customers are primarily in the consumer, small and mid-sized business, education, enterprise and government markets.\n",
    "'''"
   ]
  },
  {
   "cell_type": "code",
   "execution_count": 67,
   "metadata": {},
   "outputs": [
    {
     "name": "stdout",
     "output_type": "stream",
     "text": [
      "Apple COMPANY\n",
      "Apple COMPANY\n",
      "AAPL.O STOCK\n",
      "Apple COMPANY\n",
      "Nasdaq COMPANY\n",
      "S&P 500 INDEX\n",
      "S&P 500 INDEX\n",
      "ET STOCK\n",
      "Dow Jones Industrial Average INDEX\n",
      "S&P 500 INDEX\n",
      "Nasdaq Composite INDEX\n",
      "S&P 500 INDEX\n",
      "JD.com COMPANY\n",
      "Tencent Music COMPANY\n",
      "TME.N STOCK\n",
      "NIO.N STOCK\n",
      "Kroger COMPANY\n",
      "KR.N STOCK\n",
      "NYSE STOCK_EXCHANGE\n",
      "Nasdaq INDEX\n",
      "S&P INDEX\n",
      "Nasdaq INDEX\n"
     ]
    }
   ],
   "source": [
    "doc2 = nlp(text2)\n",
    "for ent in doc.ents:\n",
    "    print(ent.text, ent.label_)"
   ]
  }
 ],
 "metadata": {
  "kernelspec": {
   "display_name": "manish",
   "language": "python",
   "name": "python3"
  },
  "language_info": {
   "codemirror_mode": {
    "name": "ipython",
    "version": 3
   },
   "file_extension": ".py",
   "mimetype": "text/x-python",
   "name": "python",
   "nbconvert_exporter": "python",
   "pygments_lexer": "ipython3",
   "version": "3.12.3"
  }
 },
 "nbformat": 4,
 "nbformat_minor": 2
}
